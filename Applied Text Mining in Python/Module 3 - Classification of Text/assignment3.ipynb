{
 "cells": [
  {
   "cell_type": "markdown",
   "metadata": {
    "deletable": false,
    "editable": false,
    "nbgrader": {
     "cell_type": "markdown",
     "checksum": "7109c4020fb6a8bcaef37e41e738e03d",
     "grade": false,
     "grade_id": "cell-dcb6ef72e08dd5fe",
     "locked": true,
     "schema_version": 3,
     "solution": false,
     "task": false
    }
   },
   "source": [
    "# Assignment 3\n",
    "\n",
    "In this assignment you will explore text message data and create models to predict if a message is spam or not. "
   ]
  },
  {
   "cell_type": "code",
   "execution_count": 1,
   "metadata": {
    "deletable": false,
    "editable": false,
    "nbgrader": {
     "cell_type": "code",
     "checksum": "97714be9ccaf89bbff57d64a249680b8",
     "grade": false,
     "grade_id": "cell-f403cc37f510e3b4",
     "locked": true,
     "schema_version": 3,
     "solution": false,
     "task": false
    }
   },
   "outputs": [
    {
     "data": {
      "text/html": [
       "<div>\n",
       "<style scoped>\n",
       "    .dataframe tbody tr th:only-of-type {\n",
       "        vertical-align: middle;\n",
       "    }\n",
       "\n",
       "    .dataframe tbody tr th {\n",
       "        vertical-align: top;\n",
       "    }\n",
       "\n",
       "    .dataframe thead th {\n",
       "        text-align: right;\n",
       "    }\n",
       "</style>\n",
       "<table border=\"1\" class=\"dataframe\">\n",
       "  <thead>\n",
       "    <tr style=\"text-align: right;\">\n",
       "      <th></th>\n",
       "      <th>text</th>\n",
       "      <th>target</th>\n",
       "    </tr>\n",
       "  </thead>\n",
       "  <tbody>\n",
       "    <tr>\n",
       "      <th>0</th>\n",
       "      <td>Go until jurong point, crazy.. Available only ...</td>\n",
       "      <td>0</td>\n",
       "    </tr>\n",
       "    <tr>\n",
       "      <th>1</th>\n",
       "      <td>Ok lar... Joking wif u oni...</td>\n",
       "      <td>0</td>\n",
       "    </tr>\n",
       "    <tr>\n",
       "      <th>2</th>\n",
       "      <td>Free entry in 2 a wkly comp to win FA Cup fina...</td>\n",
       "      <td>1</td>\n",
       "    </tr>\n",
       "    <tr>\n",
       "      <th>3</th>\n",
       "      <td>U dun say so early hor... U c already then say...</td>\n",
       "      <td>0</td>\n",
       "    </tr>\n",
       "    <tr>\n",
       "      <th>4</th>\n",
       "      <td>Nah I don't think he goes to usf, he lives aro...</td>\n",
       "      <td>0</td>\n",
       "    </tr>\n",
       "    <tr>\n",
       "      <th>5</th>\n",
       "      <td>FreeMsg Hey there darling it's been 3 week's n...</td>\n",
       "      <td>1</td>\n",
       "    </tr>\n",
       "    <tr>\n",
       "      <th>6</th>\n",
       "      <td>Even my brother is not like to speak with me. ...</td>\n",
       "      <td>0</td>\n",
       "    </tr>\n",
       "    <tr>\n",
       "      <th>7</th>\n",
       "      <td>As per your request 'Melle Melle (Oru Minnamin...</td>\n",
       "      <td>0</td>\n",
       "    </tr>\n",
       "    <tr>\n",
       "      <th>8</th>\n",
       "      <td>WINNER!! As a valued network customer you have...</td>\n",
       "      <td>1</td>\n",
       "    </tr>\n",
       "    <tr>\n",
       "      <th>9</th>\n",
       "      <td>Had your mobile 11 months or more? U R entitle...</td>\n",
       "      <td>1</td>\n",
       "    </tr>\n",
       "  </tbody>\n",
       "</table>\n",
       "</div>"
      ],
      "text/plain": [
       "                                                text  target\n",
       "0  Go until jurong point, crazy.. Available only ...       0\n",
       "1                      Ok lar... Joking wif u oni...       0\n",
       "2  Free entry in 2 a wkly comp to win FA Cup fina...       1\n",
       "3  U dun say so early hor... U c already then say...       0\n",
       "4  Nah I don't think he goes to usf, he lives aro...       0\n",
       "5  FreeMsg Hey there darling it's been 3 week's n...       1\n",
       "6  Even my brother is not like to speak with me. ...       0\n",
       "7  As per your request 'Melle Melle (Oru Minnamin...       0\n",
       "8  WINNER!! As a valued network customer you have...       1\n",
       "9  Had your mobile 11 months or more? U R entitle...       1"
      ]
     },
     "execution_count": 1,
     "metadata": {},
     "output_type": "execute_result"
    }
   ],
   "source": [
    "import pandas as pd\n",
    "import numpy as np\n",
    "\n",
    "spam_data = pd.read_csv('assets/spam.csv')\n",
    "\n",
    "spam_data['target'] = np.where(spam_data['target']=='spam',1,0)\n",
    "spam_data.head(10)"
   ]
  },
  {
   "cell_type": "code",
   "execution_count": 2,
   "metadata": {
    "deletable": false,
    "editable": false,
    "nbgrader": {
     "cell_type": "code",
     "checksum": "8458ef46cc0956f75d602cfadbb125f8",
     "grade": false,
     "grade_id": "cell-73f5a763723ca5b1",
     "locked": true,
     "schema_version": 3,
     "solution": false,
     "task": false
    }
   },
   "outputs": [],
   "source": [
    "from sklearn.model_selection import train_test_split\n",
    "\n",
    "\n",
    "X_train, X_test, y_train, y_test = train_test_split(spam_data['text'], \n",
    "                                                    spam_data['target'], \n",
    "                                                    random_state=0)"
   ]
  },
  {
   "cell_type": "markdown",
   "metadata": {
    "deletable": false,
    "editable": false,
    "nbgrader": {
     "cell_type": "markdown",
     "checksum": "aa1acdd18515eabb22a61270e7d9aed5",
     "grade": false,
     "grade_id": "cell-687d4f4eb100a178",
     "locked": true,
     "schema_version": 3,
     "solution": false,
     "task": false
    }
   },
   "source": [
    "### Question 1\n",
    "What percentage of the documents in `spam_data` are spam?\n",
    "\n",
    "*This function should return a float, the percent value (i.e. $ratio * 100$).*"
   ]
  },
  {
   "cell_type": "code",
   "execution_count": 3,
   "metadata": {
    "deletable": false,
    "nbgrader": {
     "cell_type": "code",
     "checksum": "2793aeb56f0b9f5455a8022808ce2c68",
     "grade": false,
     "grade_id": "cell-2707cd8ee068d8d3",
     "locked": false,
     "schema_version": 3,
     "solution": true,
     "task": false
    }
   },
   "outputs": [
    {
     "data": {
      "text/plain": [
       "13.406317300789663"
      ]
     },
     "execution_count": 3,
     "metadata": {},
     "output_type": "execute_result"
    }
   ],
   "source": [
    "def answer_one():\n",
    "\n",
    "    # YOUR CODE HERE\n",
    "    #raise NotImplementedError()\n",
    "    percentage_spam = (len(spam_data[spam_data['target'] == 1])/len(spam_data))*100\n",
    "    return percentage_spam #Your answer here\n",
    "\n",
    "answer_one()"
   ]
  },
  {
   "cell_type": "code",
   "execution_count": null,
   "metadata": {
    "deletable": false,
    "editable": false,
    "nbgrader": {
     "cell_type": "code",
     "checksum": "b439a749e0a4074aeacbe58049c5bf35",
     "grade": true,
     "grade_id": "cell-35ee2f1c33047f8c",
     "locked": true,
     "points": 1,
     "schema_version": 3,
     "solution": false,
     "task": false
    }
   },
   "outputs": [],
   "source": []
  },
  {
   "cell_type": "markdown",
   "metadata": {
    "deletable": false,
    "editable": false,
    "nbgrader": {
     "cell_type": "markdown",
     "checksum": "a1d3d36cf3d3ae8a7d2e0334eb0a7b9c",
     "grade": false,
     "grade_id": "cell-a86c7b0db64621be",
     "locked": true,
     "schema_version": 3,
     "solution": false,
     "task": false
    }
   },
   "source": [
    "### Question 2\n",
    "\n",
    "Fit the training data `X_train` using a Count Vectorizer with default parameters.\n",
    "\n",
    "What is the longest token in the vocabulary?\n",
    "\n",
    "*This function should return a string.*"
   ]
  },
  {
   "cell_type": "code",
   "execution_count": 4,
   "metadata": {
    "deletable": false,
    "nbgrader": {
     "cell_type": "code",
     "checksum": "a99146357529f0924de5432298a2a73b",
     "grade": false,
     "grade_id": "cell-ed0fec2012295ea3",
     "locked": false,
     "schema_version": 3,
     "solution": true,
     "task": false
    }
   },
   "outputs": [
    {
     "data": {
      "text/plain": [
       "'com1win150ppmx3age16subscription'"
      ]
     },
     "execution_count": 4,
     "metadata": {},
     "output_type": "execute_result"
    }
   ],
   "source": [
    "from sklearn.feature_extraction.text import CountVectorizer\n",
    "\n",
    "def answer_two():\n",
    "\n",
    "    # YOUR CODE HERE\n",
    "    #raise NotImplementedError()\n",
    "    vect = CountVectorizer().fit(X_train)\n",
    "    \n",
    "    # Usinbg vocabulary_ to Obtain the Tokens\n",
    "    vocab = vect.vocabulary_\n",
    "    longest_token = max(vocab, key=len)\n",
    "    return longest_token #Your answer here\n",
    "\n",
    "answer_two()"
   ]
  },
  {
   "cell_type": "code",
   "execution_count": null,
   "metadata": {
    "deletable": false,
    "editable": false,
    "nbgrader": {
     "cell_type": "code",
     "checksum": "50c106c6e36fbba1eac00269b3215cef",
     "grade": true,
     "grade_id": "cell-6eb97e449cd12bee",
     "locked": true,
     "points": 1,
     "schema_version": 3,
     "solution": false,
     "task": false
    }
   },
   "outputs": [],
   "source": []
  },
  {
   "cell_type": "markdown",
   "metadata": {
    "deletable": false,
    "editable": false,
    "nbgrader": {
     "cell_type": "markdown",
     "checksum": "77778225d05ba447bf388c0884703333",
     "grade": false,
     "grade_id": "cell-bf601421a6965e8f",
     "locked": true,
     "schema_version": 3,
     "solution": false,
     "task": false
    }
   },
   "source": [
    "### Question 3\n",
    "\n",
    "Fit and transform the training data `X_train` using a Count Vectorizer with default parameters.\n",
    "\n",
    "Next, fit a fit a multinomial Naive Bayes classifier model with smoothing `alpha=0.1`. Find the area under the curve (AUC) score using the transformed test data.\n",
    "\n",
    "*This function should return the AUC score as a float.*"
   ]
  },
  {
   "cell_type": "code",
   "execution_count": 5,
   "metadata": {
    "deletable": false,
    "nbgrader": {
     "cell_type": "code",
     "checksum": "978982d101ec080d93ae0fbceb856df2",
     "grade": false,
     "grade_id": "cell-d6823cd2d4b78595",
     "locked": false,
     "schema_version": 3,
     "solution": true,
     "task": false
    }
   },
   "outputs": [
    {
     "data": {
      "text/plain": [
       "0.9720812182741116"
      ]
     },
     "execution_count": 5,
     "metadata": {},
     "output_type": "execute_result"
    }
   ],
   "source": [
    "from sklearn.naive_bayes import MultinomialNB\n",
    "from sklearn.metrics import roc_auc_score\n",
    "\n",
    "def answer_three():\n",
    "\n",
    "    # YOUR CODE HERE\n",
    "    # Using CountVectorizer to Transform X_train\n",
    "    # Avoid the \"Vocabulary not fitted or provided\" error by using the same vocabulary\n",
    "    vectorizer = CountVectorizer()\n",
    "    X_train_vect = vectorizer.fit_transform(X_train)\n",
    "    X_test_vect = vectorizer.transform(X_test)\n",
    "    \n",
    "    # Model Selection and Training\n",
    "    nb = MultinomialNB(alpha=0.1)\n",
    "    nb.fit(X_train_vect, y_train)\n",
    "    \n",
    "    # Prediction and AUC Score\n",
    "    y_pred = nb.predict(X_test_vect)\n",
    "    auc_score = roc_auc_score(y_test, y_pred)\n",
    "    #raise NotImplementedError()\n",
    "    return auc_score #Your answer here\n",
    "\n",
    "answer_three()"
   ]
  },
  {
   "cell_type": "code",
   "execution_count": null,
   "metadata": {
    "deletable": false,
    "editable": false,
    "nbgrader": {
     "cell_type": "code",
     "checksum": "1e5d06cc86ab90502c72075822f243aa",
     "grade": true,
     "grade_id": "cell-c9dd3c3ec0b63773",
     "locked": true,
     "points": 1,
     "schema_version": 3,
     "solution": false,
     "task": false
    }
   },
   "outputs": [],
   "source": []
  },
  {
   "cell_type": "markdown",
   "metadata": {
    "deletable": false,
    "editable": false,
    "nbgrader": {
     "cell_type": "markdown",
     "checksum": "18f455d16422cc21ef23082784d54d23",
     "grade": false,
     "grade_id": "cell-881103829277a63e",
     "locked": true,
     "schema_version": 3,
     "solution": false,
     "task": false
    }
   },
   "source": [
    "### Question 4\n",
    "\n",
    "Fit and transform the training data `X_train` using a Tfidf Vectorizer with default parameters. The transformed data will be a compressed sparse row matrix where the number of rows is the number of documents in `X_train`, the number of columns is the number of features found by the vectorizer in each document, and each value in the sparse matrix is the tf-idf value. First find the **max** tf-idf value for every feature.\n",
    "\n",
    "What 20 features have the smallest tf-idf and what 20 have the largest tf-idf among the **max** tf-idf values?\n",
    "\n",
    "Put these features in two series where each series is sorted by tf-idf value. The index of the series should be the feature name, and the data should be the tf-idf.\n",
    "\n",
    "The series of 20 features with smallest tf-idfs should be sorted smallest tfidf first, the list of 20 features with largest tf-idfs should be sorted largest first. Any entries with identical tf-ids should appear in lexigraphically increasing order by their feature name in boh series. For example, if the features \"a\", \"b\", \"c\" had the tf-idfs 1.0, 0.5, 1.0 in the series with the largest tf-idfs, then they should occur in the returned result in the order \"a\", \"c\", \"b\" with values 1.0, 1.0, 0.5.\n",
    "\n",
    "*This function should return a tuple of two series\n",
    "`(smallest tf-idfs series, largest tf-idfs series)`.*"
   ]
  },
  {
   "cell_type": "code",
   "execution_count": 6,
   "metadata": {
    "deletable": false,
    "nbgrader": {
     "cell_type": "code",
     "checksum": "398b7634e65c7fdec4e98f8966139517",
     "grade": false,
     "grade_id": "cell-76cb5ae962a7a6f5",
     "locked": false,
     "schema_version": 3,
     "solution": true,
     "task": false
    }
   },
   "outputs": [
    {
     "data": {
      "text/plain": [
       "(0.074475        venaam\n",
       " 0.091250         ugadi\n",
       " 0.098320           tag\n",
       " 0.111369       proverb\n",
       " 0.122407        terror\n",
       " 0.142732    vegetables\n",
       " 0.146667       zealand\n",
       " 0.146802         wifes\n",
       " 0.148958       laundry\n",
       " 0.149381         shore\n",
       " 0.151008       replace\n",
       " 0.152529            ws\n",
       " 0.154006        format\n",
       " 0.154473       throwin\n",
       " 0.156288        ritten\n",
       " 0.157091         mutai\n",
       " 0.160429        wisdom\n",
       " 0.160557         zyada\n",
       " 0.162163      strongly\n",
       " 0.164023       2waxsto\n",
       " dtype: object,\n",
       " 1.000000             yup\n",
       " 0.980166            tick\n",
       " 0.932702           blank\n",
       " 0.932467            same\n",
       " 0.929636            face\n",
       " 0.923819              ya\n",
       " 0.908409            bloo\n",
       " 0.902121        thinking\n",
       " 0.900700              hi\n",
       " 0.896043         wearing\n",
       " 0.875113    significance\n",
       " 0.874661       continent\n",
       " 0.865126           fetch\n",
       " 0.859835         thanks2\n",
       " 0.851805            very\n",
       " 0.850520             wot\n",
       " 0.849138         missing\n",
       " 0.840358        romantic\n",
       " 0.834815             nvm\n",
       " 0.834009              yo\n",
       " dtype: object)"
      ]
     },
     "execution_count": 6,
     "metadata": {},
     "output_type": "execute_result"
    }
   ],
   "source": [
    "from sklearn.feature_extraction.text import TfidfVectorizer\n",
    "import numpy as np\n",
    "\n",
    "def answer_four():\n",
    "    vec = TfidfVectorizer()\n",
    "    x_train_vect = vec.fit_transform(X_train)\n",
    "    \n",
    "    # Get max TF-IDF values for each feature\n",
    "    max_tfidf_values = np.max(x_train_vect.toarray(), axis=0)\n",
    "    \n",
    "    # Get all feature names\n",
    "    feature_names = vec.get_feature_names_out()\n",
    "    \n",
    "    # Create dictionary of max TF-IDF values and their corresponding terms\n",
    "    result_dict = {}\n",
    "    for value, term in zip(max_tfidf_values, feature_names):\n",
    "        result_dict[value] = term\n",
    "        \n",
    "    # Obtain top 20 largest and smallest TF-IDFs\n",
    "    largest_20 = dict(sorted(result_dict.items(), key=lambda item: item[0], reverse=True)[:20])\n",
    "    smallest_20 = dict(sorted(result_dict.items(), key=lambda item: item[0], reverse=False)[:20])\n",
    "    \n",
    "    largest_20 = pd.Series(largest_20)\n",
    "    smallest_20 = pd.Series(smallest_20)\n",
    "        \n",
    "    return (smallest_20, largest_20)\n",
    "\n",
    "answer_four()"
   ]
  },
  {
   "cell_type": "code",
   "execution_count": null,
   "metadata": {
    "deletable": false,
    "editable": false,
    "nbgrader": {
     "cell_type": "code",
     "checksum": "65b6827daca8dc89566fe6731234e202",
     "grade": true,
     "grade_id": "cell-09a122df96d70683",
     "locked": true,
     "points": 1,
     "schema_version": 3,
     "solution": false,
     "task": false
    }
   },
   "outputs": [],
   "source": []
  },
  {
   "cell_type": "markdown",
   "metadata": {
    "deletable": false,
    "editable": false,
    "nbgrader": {
     "cell_type": "markdown",
     "checksum": "e40c91cd89e25cecdcb123bb447dadd1",
     "grade": false,
     "grade_id": "cell-cf833ad4436ff594",
     "locked": true,
     "schema_version": 3,
     "solution": false,
     "task": false
    }
   },
   "source": [
    "### Question 5\n",
    "\n",
    "Fit and transform the training data `X_train` using a Tfidf Vectorizer ignoring terms that have a document frequency strictly lower than **3**.\n",
    "\n",
    "Then fit a multinomial Naive Bayes classifier model with smoothing `alpha=0.1` and compute the area under the curve (AUC) score using the transformed test data.\n",
    "\n",
    "*This function should return the AUC score as a float.*"
   ]
  },
  {
   "cell_type": "code",
   "execution_count": 7,
   "metadata": {
    "deletable": false,
    "nbgrader": {
     "cell_type": "code",
     "checksum": "8679a4b2f417981c7f2163a0fa692866",
     "grade": false,
     "grade_id": "cell-4f8dc958e73ebf9e",
     "locked": false,
     "schema_version": 3,
     "solution": true,
     "task": false
    }
   },
   "outputs": [
    {
     "data": {
      "text/plain": [
       "0.9416243654822335"
      ]
     },
     "execution_count": 7,
     "metadata": {},
     "output_type": "execute_result"
    }
   ],
   "source": [
    "def answer_five():\n",
    "\n",
    "    # YOUR CODE HERE\n",
    "    vec = TfidfVectorizer(min_df=3)\n",
    "    X_train_vect = vec.fit_transform(X_train)\n",
    "    X_test_vect = vec.transform(X_test)\n",
    "    \n",
    "    # Model Selection and Training\n",
    "    nb = MultinomialNB(alpha=0.1)\n",
    "    nb.fit(X_train_vect, y_train)\n",
    "    \n",
    "    # Prediction and AUC Score\n",
    "    y_pred = nb.predict(X_test_vect)\n",
    "    auc_score = roc_auc_score(y_test, y_pred)\n",
    "    \n",
    "    #raise NotImplementedError()\n",
    "    return auc_score #Your answer here\n",
    "\n",
    "answer_five()"
   ]
  },
  {
   "cell_type": "code",
   "execution_count": null,
   "metadata": {
    "deletable": false,
    "editable": false,
    "nbgrader": {
     "cell_type": "code",
     "checksum": "bcf549a0e74e7e1818c9accf7cd6556d",
     "grade": true,
     "grade_id": "cell-09607be9c976cae0",
     "locked": true,
     "points": 1,
     "schema_version": 3,
     "solution": false,
     "task": false
    }
   },
   "outputs": [],
   "source": []
  },
  {
   "cell_type": "markdown",
   "metadata": {
    "deletable": false,
    "editable": false,
    "nbgrader": {
     "cell_type": "markdown",
     "checksum": "01decd9375604608e5ee425fd9f57f08",
     "grade": false,
     "grade_id": "cell-8140300bc6d127ff",
     "locked": true,
     "schema_version": 3,
     "solution": false,
     "task": false
    }
   },
   "source": [
    "### Question 6\n",
    "\n",
    "What is the average length of documents (number of characters) for not spam and spam documents?\n",
    "\n",
    "*This function should return a tuple (average length not spam, average length spam).*"
   ]
  },
  {
   "cell_type": "code",
   "execution_count": 8,
   "metadata": {
    "deletable": false,
    "nbgrader": {
     "cell_type": "code",
     "checksum": "94051f9c02aab671e630b67e818fa490",
     "grade": false,
     "grade_id": "cell-9ef7d7820ba0644d",
     "locked": false,
     "schema_version": 3,
     "solution": true,
     "task": false
    }
   },
   "outputs": [
    {
     "data": {
      "text/plain": [
       "(2.600992410974898, 6.21625392396233)"
      ]
     },
     "execution_count": 8,
     "metadata": {},
     "output_type": "execute_result"
    }
   ],
   "source": [
    "def answer_six():\n",
    "\n",
    "    # YOUR CODE HERE\n",
    "    vect_spam = CountVectorizer().fit(spam_data['text'][spam_data['target'] == 1])\n",
    "    vect_no_spam = CountVectorizer().fit(spam_data['text'][spam_data['target'] == 0])\n",
    "    \n",
    "    # Using vocabulary_ to Obtain the Tokens\n",
    "    vocab_spam = vect_spam.vocabulary_\n",
    "    avg_length_spam = sum(len(key) for key in vocab_spam) / len(vocab_spam)\n",
    "    \n",
    "    vocab_no_spam = vect_no_spam.vocabulary_\n",
    "    avg_length_no_spam = sum(len(key) for key in vocab_spam) / len(vocab_no_spam)\n",
    "    \n",
    "    #raise NotImplementedError()\n",
    "    return (avg_length_no_spam, avg_length_spam) #Your answer here\n",
    "\n",
    "answer_six()"
   ]
  },
  {
   "cell_type": "code",
   "execution_count": null,
   "metadata": {
    "deletable": false,
    "editable": false,
    "nbgrader": {
     "cell_type": "code",
     "checksum": "7d0200c29dd8c642e469627c9ec80d0d",
     "grade": true,
     "grade_id": "cell-3cc7f12d3457b034",
     "locked": true,
     "points": 1,
     "schema_version": 3,
     "solution": false,
     "task": false
    }
   },
   "outputs": [],
   "source": []
  },
  {
   "cell_type": "markdown",
   "metadata": {
    "deletable": false,
    "editable": false,
    "nbgrader": {
     "cell_type": "markdown",
     "checksum": "9ae20c6a5ea3577daaff67026ada729d",
     "grade": false,
     "grade_id": "cell-142fa11bdbd6c041",
     "locked": true,
     "schema_version": 3,
     "solution": false,
     "task": false
    }
   },
   "source": [
    "<br>\n",
    "<br>\n",
    "The following function has been provided to help you combine new features into the training data:"
   ]
  },
  {
   "cell_type": "code",
   "execution_count": 9,
   "metadata": {
    "deletable": false,
    "editable": false,
    "nbgrader": {
     "cell_type": "code",
     "checksum": "d03fff196791b604effa8f3738498b59",
     "grade": false,
     "grade_id": "cell-b1b59ae1895c1675",
     "locked": true,
     "schema_version": 3,
     "solution": false,
     "task": false
    }
   },
   "outputs": [],
   "source": [
    "def add_feature(X, feature_to_add):\n",
    "    \"\"\"\n",
    "    Returns sparse feature matrix with added feature.\n",
    "    feature_to_add can also be a list of features.\n",
    "    \"\"\"\n",
    "    from scipy.sparse import csr_matrix, hstack\n",
    "    return hstack([X, csr_matrix(feature_to_add).T], 'csr')"
   ]
  },
  {
   "cell_type": "markdown",
   "metadata": {
    "deletable": false,
    "editable": false,
    "nbgrader": {
     "cell_type": "markdown",
     "checksum": "4388967b5944a88ddb4ba6ce1ee787bc",
     "grade": false,
     "grade_id": "cell-157cfd481d53666e",
     "locked": true,
     "schema_version": 3,
     "solution": false,
     "task": false
    }
   },
   "source": [
    "### Question 7\n",
    "\n",
    "Fit and transform the training data X_train using a Tfidf Vectorizer ignoring terms that have a document frequency strictly lower than **5**.\n",
    "\n",
    "Using this document-term matrix and an additional feature, **the length of document (number of characters)**, fit a Support Vector Classification model with regularization `C=10000`. Then compute the area under the curve (AUC) score using the transformed test data.\n",
    "\n",
    "*Hint: Since probability is set to false, use the model's `decision_function` on the test data when calculating the target scores to use in roc_auc_score*\n",
    "\n",
    "*This function should return the AUC score as a float.*"
   ]
  },
  {
   "cell_type": "code",
   "execution_count": 10,
   "metadata": {
    "deletable": false,
    "nbgrader": {
     "cell_type": "code",
     "checksum": "3308c695dc06f58ad0471f643e787794",
     "grade": false,
     "grade_id": "cell-8bd2ea8cadce6a40",
     "locked": false,
     "schema_version": 3,
     "solution": true,
     "task": false
    }
   },
   "outputs": [
    {
     "data": {
      "text/plain": [
       "0.9963202213809143"
      ]
     },
     "execution_count": 10,
     "metadata": {},
     "output_type": "execute_result"
    }
   ],
   "source": [
    "from sklearn.svm import SVC\n",
    "\n",
    "def answer_seven():\n",
    "\n",
    "    # YOUR CODE HERE\n",
    "    # Fit and Transform using TFIDF\n",
    "    vec = TfidfVectorizer(min_df=5)\n",
    "    X_train_vect = vec.fit_transform(X_train)\n",
    "    X_train_vect = add_feature(X_train_vect, X_train.str.len())\n",
    "    \n",
    "    X_test_vect = vec.transform(X_test)\n",
    "    X_test_vect = add_feature(X_test_vect, X_test.str.len())\n",
    "    \n",
    "    # Train SVC with C=10000\n",
    "    svm = SVC(C=10000).fit(X_train_vect, y_train)\n",
    "    \n",
    "    # Calculate Decision Scores Because Probability is Set to False\n",
    "    decision_scores = svm.decision_function(X_test_vect)\n",
    "    auc_score = roc_auc_score(y_test, decision_scores)\n",
    "    \n",
    "    #raise NotImplementedError()\n",
    "    return auc_score #Your answer here\n",
    "\n",
    "answer_seven()"
   ]
  },
  {
   "cell_type": "code",
   "execution_count": null,
   "metadata": {
    "deletable": false,
    "editable": false,
    "nbgrader": {
     "cell_type": "code",
     "checksum": "c32d3ed51b28e5570648f91f13f78778",
     "grade": true,
     "grade_id": "cell-3627e3b7549e1a87",
     "locked": true,
     "points": 1,
     "schema_version": 3,
     "solution": false,
     "task": false
    }
   },
   "outputs": [],
   "source": []
  },
  {
   "cell_type": "markdown",
   "metadata": {
    "deletable": false,
    "editable": false,
    "nbgrader": {
     "cell_type": "markdown",
     "checksum": "5450b9d6e5473f80506df772fcdeece5",
     "grade": false,
     "grade_id": "cell-47de3c090d6cc28c",
     "locked": true,
     "schema_version": 3,
     "solution": false,
     "task": false
    }
   },
   "source": [
    "### Question 8\n",
    "\n",
    "What is the average number of digits per document for not spam and spam documents?\n",
    "\n",
    "*Hint: Use `\\d` for digit class*\n",
    "\n",
    "*This function should return a tuple (average # digits not spam, average # digits spam).*"
   ]
  },
  {
   "cell_type": "code",
   "execution_count": 11,
   "metadata": {
    "deletable": false,
    "nbgrader": {
     "cell_type": "code",
     "checksum": "f0796b63b394927cbb4f24bc1abfad05",
     "grade": false,
     "grade_id": "cell-bad49f3617c66d86",
     "locked": false,
     "schema_version": 3,
     "solution": true,
     "task": false
    }
   },
   "outputs": [
    {
     "data": {
      "text/plain": [
       "(4.241042956293378, 3.8873596052717003)"
      ]
     },
     "execution_count": 11,
     "metadata": {},
     "output_type": "execute_result"
    }
   ],
   "source": [
    "import re\n",
    "\n",
    "def answer_eight():\n",
    "\n",
    "    # YOUR CODE HERE\n",
    "    \n",
    "    vect_spam = CountVectorizer().fit(spam_data['text'][spam_data['target'] == 1])\n",
    "    vect_no_spam = CountVectorizer().fit(spam_data['text'][spam_data['target'] == 0])\n",
    "    \n",
    "    # Using vocabulary_ to Obtain the Tokens\n",
    "    vocab_spam = vect_spam.vocabulary_\n",
    "    vocab_no_spam = vect_no_spam.vocabulary_\n",
    "    \n",
    "    # Extract all digits and convert them to integers\n",
    "    digits_spam = [int(d) for d in re.findall(r'\\d', str(vocab_spam))]\n",
    "    average_spam = sum(digits_spam) / len(digits_spam)\n",
    "    digits_no_spam = [int(d) for d in re.findall(r'\\d', str(vocab_no_spam))]\n",
    "    average_no_spam = sum(digits_no_spam) / len(digits_no_spam)\n",
    "    \n",
    "    #raise NotImplementedError()\n",
    "    return (average_no_spam, average_spam) #Your answer here\n",
    "\n",
    "answer_eight()"
   ]
  },
  {
   "cell_type": "code",
   "execution_count": null,
   "metadata": {
    "deletable": false,
    "editable": false,
    "nbgrader": {
     "cell_type": "code",
     "checksum": "2443b6f2fae61333d4cb3d50ed6ee321",
     "grade": true,
     "grade_id": "cell-501bf7c435747a23",
     "locked": true,
     "points": 1,
     "schema_version": 3,
     "solution": false,
     "task": false
    }
   },
   "outputs": [],
   "source": []
  },
  {
   "cell_type": "markdown",
   "metadata": {
    "deletable": false,
    "editable": false,
    "nbgrader": {
     "cell_type": "markdown",
     "checksum": "c12a31611d9f66f872fd93daf94889a8",
     "grade": false,
     "grade_id": "cell-1ddf2c6c108f6a85",
     "locked": true,
     "schema_version": 3,
     "solution": false,
     "task": false
    }
   },
   "source": [
    "### Question 9\n",
    "\n",
    "Fit and transform the training data `X_train` using a Tfidf Vectorizer ignoring terms that have a document frequency strictly lower than **5** and using **word n-grams from n=1 to n=3** (unigrams, bigrams, and trigrams).\n",
    "\n",
    "Using this document-term matrix and the following additional features:\n",
    "* the length of document (number of characters)\n",
    "* **number of digits per document**\n",
    "\n",
    "fit a Logistic Regression model with regularization `C=100` and `max_iter=1000`. Then compute the area under the curve (AUC) score using the transformed test data.\n",
    "\n",
    "*This function should return the AUC score as a float.*"
   ]
  },
  {
   "cell_type": "code",
   "execution_count": 12,
   "metadata": {
    "deletable": false,
    "nbgrader": {
     "cell_type": "code",
     "checksum": "752f6ba55e9ea2c42030a0bef42d7bc0",
     "grade": false,
     "grade_id": "cell-bbd73da89641f28d",
     "locked": false,
     "schema_version": 3,
     "solution": true,
     "task": false
    }
   },
   "outputs": [
    {
     "data": {
      "text/plain": [
       "0.9973218681561211"
      ]
     },
     "execution_count": 12,
     "metadata": {},
     "output_type": "execute_result"
    }
   ],
   "source": [
    "from sklearn.linear_model import LogisticRegression\n",
    "\n",
    "def answer_nine():\n",
    "\n",
    "    # YOUR CODE HERE\n",
    "    # Fit and Transform using TFIDF\n",
    "    vec = TfidfVectorizer(min_df=5, ngram_range=(1,3))\n",
    "    X_train_vect = vec.fit_transform(X_train)\n",
    "    X_train_vect = add_feature(X_train_vect, [X_train.str.len(),\n",
    "                                                                X_train.apply(lambda x: len(''.join([a for a in x if a.isdigit()])))])\n",
    "    X_test_vect = vec.transform(X_test)\n",
    "    X_test_vect = add_feature(X_test_vect, [X_test.str.len(),\n",
    "                                                            X_test.apply(lambda x: len(''.join([a for a in x if a.isdigit()])))])\n",
    "    \n",
    "    lr = LogisticRegression(C=100, max_iter=1000)\n",
    "    lr.fit(X_train_vect, y_train)\n",
    "    \n",
    "    y_pred = lr.predict_proba(X_test_vect)\n",
    "    auc_score = roc_auc_score(y_test, y_pred[:, 1])\n",
    "    \n",
    "    #raise NotImplementedError()\n",
    "    return auc_score #Your answer here\n",
    "\n",
    "answer_nine()"
   ]
  },
  {
   "cell_type": "code",
   "execution_count": null,
   "metadata": {
    "deletable": false,
    "editable": false,
    "nbgrader": {
     "cell_type": "code",
     "checksum": "307ca68d7f0c4af478cfaca06c59f4f8",
     "grade": true,
     "grade_id": "cell-c7d3dd647af1574e",
     "locked": true,
     "points": 1,
     "schema_version": 3,
     "solution": false,
     "task": false
    }
   },
   "outputs": [],
   "source": []
  },
  {
   "cell_type": "markdown",
   "metadata": {
    "deletable": false,
    "editable": false,
    "nbgrader": {
     "cell_type": "markdown",
     "checksum": "d3d2d857dbe6d218394aff1a073463bf",
     "grade": false,
     "grade_id": "cell-822483537e34697a",
     "locked": true,
     "schema_version": 3,
     "solution": false,
     "task": false
    }
   },
   "source": [
    "\\W### Question 10\n",
    "\n",
    "What is the average number of non-word characters (anything other than a letter, digit or underscore) per document for not spam and spam documents?\n",
    "\n",
    "*Hint: Use `\\w` and `\\W` character classes*\n",
    "\n",
    "*This function should return a tuple (average # non-word characters not spam, average # non-word characters spam).*"
   ]
  },
  {
   "cell_type": "code",
   "execution_count": 13,
   "metadata": {
    "deletable": false,
    "nbgrader": {
     "cell_type": "code",
     "checksum": "dcd6cd538aa54ac0ec7b03365bd74689",
     "grade": false,
     "grade_id": "cell-8d2212cb850f907d",
     "locked": false,
     "schema_version": 3,
     "solution": true,
     "task": false
    }
   },
   "outputs": [
    {
     "data": {
      "text/plain": [
       "(17.29181347150259, 29.041499330655956)"
      ]
     },
     "execution_count": 13,
     "metadata": {},
     "output_type": "execute_result"
    }
   ],
   "source": [
    "def answer_ten():\n",
    "\n",
    "    # YOUR CODE HERE\n",
    "    \n",
    "    # Calculate average non-word characters for non-spam documents\n",
    "    non_spam_docs = spam_data['text'][spam_data['target'] == 0]\n",
    "    non_spam_nonword_counts = [len(re.findall(r'\\W', doc)) for doc in non_spam_docs]\n",
    "    avg_non_spam = sum(non_spam_nonword_counts) / len(non_spam_docs)\n",
    "    \n",
    "    # Calculate average non-word characters for spam documents\n",
    "    spam_docs = spam_data['text'][spam_data['target'] == 1]\n",
    "    spam_nonword_counts = [len(re.findall(r'\\W', doc)) for doc in spam_docs]\n",
    "    avg_spam = sum(spam_nonword_counts) / len(spam_docs)\n",
    "    \n",
    "    return (avg_non_spam, avg_spam) #Your answer here\n",
    "\n",
    "answer_ten()"
   ]
  },
  {
   "cell_type": "code",
   "execution_count": null,
   "metadata": {
    "deletable": false,
    "editable": false,
    "nbgrader": {
     "cell_type": "code",
     "checksum": "b7901a0e4f5b169e1305280bf4a7a2c8",
     "grade": true,
     "grade_id": "cell-1d6ac20393ffe9ff",
     "locked": true,
     "points": 1,
     "schema_version": 3,
     "solution": false,
     "task": false
    }
   },
   "outputs": [],
   "source": []
  },
  {
   "cell_type": "markdown",
   "metadata": {
    "deletable": false,
    "editable": false,
    "nbgrader": {
     "cell_type": "markdown",
     "checksum": "4aad0115bf7fe21b470680010fde6246",
     "grade": false,
     "grade_id": "cell-733de6a9548fe648",
     "locked": true,
     "schema_version": 3,
     "solution": false,
     "task": false
    }
   },
   "source": [
    "### Question 11\n",
    "\n",
    "Fit and transform the **first 2000 rows** of training data X_train using a Count Vectorizer ignoring terms that have a document frequency strictly lower than **5** and using **character n-grams from n=2 to n=5.**\n",
    "\n",
    "To tell Count Vectorizer to use character n-grams pass in `analyzer='char_wb'` which creates character n-grams only from text inside word boundaries. This should make the model more robust to spelling mistakes.\n",
    "\n",
    "Using this document-term matrix and the following additional features:\n",
    "* the length of document (number of characters)\n",
    "* number of digits per document\n",
    "* **number of non-word characters (anything other than a letter, digit or underscore.)**\n",
    "\n",
    "fit a Logistic Regression model with regularization C=100 and max_iter=1000. Then compute the area under the curve (AUC) score using the transformed test data.\n",
    "\n",
    "Also **find the 10 smallest and 10 largest coefficients from the model** and return them along with the AUC score in a tuple.\n",
    "\n",
    "The list of 10 smallest coefficients should be sorted smallest first, the list of 10 largest coefficients should be sorted largest first.\n",
    "\n",
    "The three features that were added to the document term matrix should have the following names should they appear in the list of coefficients:\n",
    "['length_of_doc', 'digit_count', 'non_word_char_count']\n",
    "\n",
    "*This function should return a tuple `(AUC score as a float, smallest coefs list, largest coefs list)`.*"
   ]
  },
  {
   "cell_type": "code",
   "execution_count": 14,
   "metadata": {
    "deletable": false,
    "nbgrader": {
     "cell_type": "code",
     "checksum": "a5efa62b1d9cf26ce2beb28db30c1b83",
     "grade": false,
     "grade_id": "cell-1233becfd19fff26",
     "locked": false,
     "schema_version": 3,
     "solution": true,
     "task": false
    }
   },
   "outputs": [
    {
     "data": {
      "text/plain": [
       "(0.9214089265402442,\n",
       " array(['for 1st', 'the same', 'which is', 'can you', 'lt gt', 'its just',\n",
       "        'thanks for', 'it is', 'you re', 'good morning'], dtype=object),\n",
       " array(['reply with', 'to stop', 'you have', 'find out', 'the new',\n",
       "        'for me', 'have won', 'co uk', 'more info', 'last week'],\n",
       "       dtype=object))"
      ]
     },
     "execution_count": 14,
     "metadata": {},
     "output_type": "execute_result"
    }
   ],
   "source": [
    "def answer_eleven():\n",
    "\n",
    "    # YOUR CODE HERE\n",
    "    vec = TfidfVectorizer(min_df=5, ngram_range=(2,5))\n",
    "    X_train_vect = vec.fit_transform(X_train[:2000])\n",
    "    X_train_vect = add_feature(X_train_vect, [X_train[:2000].str.len(),\n",
    "                                                                X_train[:2000].apply(lambda x: len(''.join([a for a in x if a.isdigit()]))),\n",
    "                                                                X_train[:2000].str.findall(r'(\\W)').str.len()])\n",
    "    X_test_vect = vec.transform(X_test[:2000])\n",
    "    X_test_vect = add_feature(X_test_vect, [X_test[:2000].str.len(),\n",
    "                                                            X_test[:2000].apply(lambda x: len(''.join([a for a in x if a.isdigit()]))),\n",
    "                                                            X_test[:2000].str.findall(r'(\\W)').str.len()])\n",
    "    \n",
    "    lr = LogisticRegression(C=100, max_iter=1000)\n",
    "    lr.fit(X_train_vect, y_train[:2000])\n",
    "    \n",
    "    y_pred = lr.predict(X_test_vect)\n",
    "    auc_score = roc_auc_score(y_test, y_pred)\n",
    "    \n",
    "    feature_names = np.array(vec.get_feature_names_out())\n",
    "    sorted_coef_index = lr.coef_[0].argsort()\n",
    "    \n",
    "    smallest_coefs = feature_names[sorted_coef_index[:10]]\n",
    "    largest_coefs = feature_names[sorted_coef_index[:-11:-1]]\n",
    "    #raise NotImplementedError()\n",
    "    return auc_score, smallest_coefs, largest_coefs #Your answer here\n",
    "\n",
    "answer_eleven()"
   ]
  },
  {
   "cell_type": "code",
   "execution_count": null,
   "metadata": {
    "deletable": false,
    "editable": false,
    "nbgrader": {
     "cell_type": "code",
     "checksum": "478c0c9b96fa606218d12419d35cb768",
     "grade": true,
     "grade_id": "cell-477ea85f5bcd7cef",
     "locked": true,
     "points": 1,
     "schema_version": 3,
     "solution": false,
     "task": false
    }
   },
   "outputs": [],
   "source": []
  }
 ],
 "metadata": {
  "coursera": {
   "course_slug": "python-text-mining",
   "graded_item_id": "Pn19K",
   "launcher_item_id": "y1juS",
   "part_id": "ctlgo"
  },
  "kernelspec": {
   "display_name": "Python 3 (ipykernel)",
   "language": "python",
   "name": "python3"
  },
  "language_info": {
   "codemirror_mode": {
    "name": "ipython",
    "version": 3
   },
   "file_extension": ".py",
   "mimetype": "text/x-python",
   "name": "python",
   "nbconvert_exporter": "python",
   "pygments_lexer": "ipython3",
   "version": "3.9.13"
  }
 },
 "nbformat": 4,
 "nbformat_minor": 4
}
