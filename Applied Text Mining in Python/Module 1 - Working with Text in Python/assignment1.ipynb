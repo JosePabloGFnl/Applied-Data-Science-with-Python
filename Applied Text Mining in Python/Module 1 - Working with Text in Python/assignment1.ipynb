{
 "cells": [
  {
   "cell_type": "markdown",
   "metadata": {
    "deletable": false,
    "editable": false,
    "nbgrader": {
     "cell_type": "markdown",
     "checksum": "cacf7f4360d6d53c622742f64048f72c",
     "grade": false,
     "grade_id": "cell-8a754c8ce8a16eeb",
     "locked": true,
     "schema_version": 3,
     "solution": false,
     "task": false
    }
   },
   "source": [
    "# Assignment 1\n",
    "\n",
    "In this assignment, you'll be working with messy medical data and using regex to extract relevant infromation from the data. \n",
    "\n",
    "Each line of the `dates.txt` file corresponds to a medical note. Each note has a date that needs to be extracted, but each date is encoded in one of many formats.\n",
    "\n",
    "The goal of this assignment is to correctly identify all of the different date variants encoded in this dataset and to properly normalize and sort the dates. \n",
    "\n",
    "Here is a list of some of the variants you might encounter in this dataset:\n",
    "* 04/20/2009; 04/20/09; 4/20/09; 4/3/09\n",
    "* Mar-20-2009; Mar 20, 2009; March 20, 2009;  Mar. 20, 2009; Mar 20 2009;\n",
    "* 20 Mar 2009; 20 March 2009; 20 Mar. 2009; 20 March, 2009\n",
    "* Mar 20th, 2009; Mar 21st, 2009; Mar 22nd, 2009\n",
    "* Feb 2009; Sep 2009; Oct 2010\n",
    "* 6/2008; 12/2009\n",
    "* 2009; 2010\n",
    "\n",
    "Once you have extracted these date patterns from the text, the next step is to sort them in ascending chronological order accoring to the following rules:\n",
    "* Assume all dates in xx/xx/xx format are mm/dd/yy\n",
    "* Assume all dates where year is encoded in only two digits are years from the 1900's (e.g. 1/5/89 is January 5th, 1989)\n",
    "* If the day is missing (e.g. 9/2009), assume it is the first day of the month (e.g. September 1, 2009).\n",
    "* If the month is missing (e.g. 2010), assume it is the first of January of that year (e.g. January 1, 2010).\n",
    "* Watch out for potential typos as this is a raw, real-life derived dataset.\n",
    "\n",
    "With these rules in mind, find the correct date in each note and return a pandas Series in chronological order of the original Series' indices. **This Series should be sorted by a tie-break sort in the format of (\"extracted date\", \"original row number\").**\n",
    "\n",
    "For example if the original series was this:\n",
    "\n",
    "    0    1999\n",
    "    1    2010\n",
    "    2    1978\n",
    "    3    2015\n",
    "    4    1985\n",
    "\n",
    "Your function should return this:\n",
    "\n",
    "    0    2\n",
    "    1    4\n",
    "    2    0\n",
    "    3    1\n",
    "    4    3\n",
    "\n",
    "Your score will be calculated using [Kendall's tau](https://en.wikipedia.org/wiki/Kendall_rank_correlation_coefficient), a correlation measure for ordinal data.\n",
    "\n",
    "*This function should return a Series of length 500 and dtype int.*"
   ]
  },
  {
   "cell_type": "code",
   "execution_count": 1,
   "metadata": {
    "deletable": false,
    "editable": false,
    "nbgrader": {
     "cell_type": "code",
     "checksum": "4b47ce38a503bfb1f113580f394d8667",
     "grade": false,
     "grade_id": "cell-28048f36edc32946",
     "locked": true,
     "schema_version": 3,
     "solution": false,
     "task": false
    }
   },
   "outputs": [
    {
     "data": {
      "text/plain": [
       "0         03/25/93 Total time of visit (in minutes):\\n\n",
       "1                       6/18/85 Primary Care Doctor:\\n\n",
       "2    sshe plans to move as of 7/8/71 In-Home Servic...\n",
       "3                7 on 9/27/75 Audit C Score Current:\\n\n",
       "4    2/6/96 sleep studyPain Treatment Pain Level (N...\n",
       "5                    .Per 7/06/79 Movement D/O note:\\n\n",
       "6    4, 5/18/78 Patient's thoughts about current su...\n",
       "7    10/24/89 CPT Code: 90801 - Psychiatric Diagnos...\n",
       "8                         3/7/86 SOS-10 Total Score:\\n\n",
       "9             (4/10/71)Score-1Audit C Score Current:\\n\n",
       "dtype: object"
      ]
     },
     "execution_count": 1,
     "metadata": {},
     "output_type": "execute_result"
    }
   ],
   "source": [
    "import pandas as pd\n",
    "\n",
    "doc = []\n",
    "with open('assets/dates.txt') as file:\n",
    "    for line in file:\n",
    "        doc.append(line)\n",
    "\n",
    "df = pd.Series(doc)\n",
    "df.head(10)"
   ]
  },
  {
   "cell_type": "code",
   "execution_count": 2,
   "metadata": {
    "deletable": false,
    "nbgrader": {
     "cell_type": "code",
     "checksum": "3e58e227860ae4b02d6bdddd81506787",
     "grade": false,
     "grade_id": "cell-d6f35a51303ed6ff",
     "locked": false,
     "schema_version": 3,
     "solution": true,
     "task": false
    }
   },
   "outputs": [],
   "source": [
    "def date_sorter():\n",
    "    \n",
    "    order = df.str.extract(r'((\\d{0,2}|(Jan|Feb|Mar|Apr|May|Jun|Jul|Aug|Sep|Oct|Nov|Dec))(/|-|\\s)(\\d{0,2}|(Jan|Feb|Mar|Apr|May|Jun|Jul|Aug|Sep|Oct|Nov|Dec))(/|-|\\s|,)\\d{2,4})')\n",
    "    # YOUR CODE HERE\n",
    "    #raise NotImplementedError()\n",
    "    return order # Your answer here"
   ]
  },
  {
   "cell_type": "code",
   "execution_count": 3,
   "metadata": {},
   "outputs": [
    {
     "data": {
      "text/plain": [
       "'               0    1    2    3    4    5    6\\n0       03/25/93   03  NaN    /   25  NaN    /\\n1        6/18/85    6  NaN    /   18  NaN    /\\n2         7/8/71    7  NaN    /    8  NaN    /\\n3           9/27       NaN         9  NaN    /\\n4         2/6/96    2  NaN    /    6  NaN    /\\n5           7/06       NaN         7  NaN    /\\n6           5/18       NaN         5  NaN    /\\n7       10/24/89   10  NaN    /   24  NaN    /\\n8         3/7/86    3  NaN    /    7  NaN    /\\n9        4/10/71    4  NaN    /   10  NaN    /\\n10       5/11/85    5  NaN    /   11  NaN    /\\n11       4/09/75    4  NaN    /   09  NaN    /\\n12       8/01/98    8  NaN    /   01  NaN    /\\n13       1/26/72    1  NaN    /   26  NaN    /\\n14     5/24/1990    5  NaN    /   24  NaN    /\\n15     1/25/2011    1  NaN    /   25  NaN    /\\n16       4/12/82    4  NaN    /   12  NaN    /\\n17         10/13       NaN        10  NaN    /\\n18          4/24       NaN         4  NaN    /\\n19          5/21       NaN         5  NaN    /\\n20       7/21/98    7  NaN    /   21  NaN    /\\n21      10/21/79   10  NaN    /   21  NaN    /\\n22       3/03/90    3  NaN    /   03  NaN    /\\n23       2/11/76    2  NaN    /   11  NaN    /\\n24    07/25/1984   07  NaN    /   25  NaN    /\\n25       4-13-82    4  NaN    -   13  NaN    -\\n26       9/22/89    9  NaN    /   22  NaN    /\\n27       9/02/76    9  NaN    /   02  NaN    /\\n28       9/12/71    9  NaN    /   12  NaN    /\\n29      10/24/86   10  NaN    /   24  NaN    /\\n30    03/31/1985   03  NaN    /   31  NaN    /\\n31       7/20/72    7  NaN    /   20  NaN    /\\n32       4/12/87    4  NaN    /   12  NaN    /\\n33      06/20/91   06  NaN    /   20  NaN    /\\n34     5/12/2012    5  NaN    /   12  NaN    /\\n35       3/15/83    3  NaN    /   15  NaN    /\\n36       2/14/73    2  NaN    /   14  NaN    /\\n37       5/24/88    5  NaN    /   24  NaN    /\\n38     7/27/1986    7  NaN    /   27  NaN    /\\n39       1-14-81    1  NaN    -   14  NaN    -\\n40       7-29-75    7  NaN    -   29  NaN    -\\n41       6/24/87    6  NaN    /   24  NaN    /\\n42       8/14/94    8  NaN    /   14  NaN    /\\n43     4/13/2002    4  NaN    /   13  NaN    /\\n44       8/16/82    8  NaN    /   16  NaN    /\\n45     2/15/1998    2  NaN    /   15  NaN    /\\n46       7/15/91    7  NaN    /   15  NaN    /\\n47      06/12/94   06  NaN    /   12  NaN    /\\n48       9/17/84    9  NaN    /   17  NaN    /\\n49       2/28/75    2  NaN    /   28  NaN    /\\n50         11/22       NaN        11  NaN    /\\n51          5/24       NaN         5  NaN    /\\n52       6/13/92    6  NaN    /   13  NaN    /\\n53       7/11/71    7  NaN    /   11  NaN    /\\n54      12/26/86   12  NaN    /   26  NaN    /\\n55    10/11/1987   10  NaN    /   11  NaN    /\\n56       3/14/95    3  NaN    /   14  NaN    /\\n57      12/01/73   12  NaN    /   01  NaN    /\\n58     12/5/2010   12  NaN    /    5  NaN    /\\n59    08/20/1982   08  NaN    /   20  NaN    /\\n60       7/24/95    7  NaN    /   24  NaN    /\\n61       8/06/83    8  NaN    /   06  NaN    /\\n62      02/22/92   02  NaN    /   22  NaN    /\\n63       6/28/87    6  NaN    /   28  NaN    /\\n64    07/29/1994   07  NaN    /   29  NaN    /\\n65      08/11/78   08  NaN    /   11  NaN    /\\n66      10/29/91   10  NaN    /   29  NaN    /\\n67        7/6/91    7  NaN    /    6  NaN    /\\n68          1/21       NaN         1  NaN    /\\n69     11/3/1985   11  NaN    /    3  NaN    /\\n70       7/04/82    7  NaN    /   04  NaN    /\\n71       4-13-89    4  NaN    -   13  NaN    -\\n72       7/11/77    7  NaN    /   11  NaN    /\\n73       4/12/74    4  NaN    /   12  NaN    /\\n74      09/19/81   09  NaN    /   19  NaN    /\\n75        9/6/79    9  NaN    /    6  NaN    /\\n76       12/5/87   12  NaN    /    5  NaN    /\\n77    01/05/1999   01  NaN    /   05  NaN    /\\n78       4/22/80    4  NaN    /   22  NaN    /\\n79      10/04/98   10  NaN    /   04  NaN    /\\n80         10-15       NaN        10  NaN    -\\n81          8/04       NaN         8  NaN    /\\n82          7/07       NaN         7  NaN    /\\n83    09/14/2000   09  NaN    /   14  NaN    /\\n84       5/18/71    5  NaN    /   18  NaN    /\\n85     8/09/1981    8  NaN    /   09  NaN    /\\n86       6/05/93    6  NaN    /   05  NaN    /\\n87        8/9/97    8  NaN    /    9  NaN    /\\n88       12/8/82   12  NaN    /    8  NaN    /\\n89       8/26/89    8  NaN    /   26  NaN    /\\n90      10/13/95   10  NaN    /   13  NaN    /\\n91       4/19/91    4  NaN    /   19  NaN    /\\n92         04/08       NaN        04  NaN    /\\n93       9/20/76    9  NaN    /   20  NaN    /\\n94    12/08/1990   12  NaN    /   08  NaN    /\\n95     4/11/1974    4  NaN    /   11  NaN    /\\n96       7/18/86    7  NaN    /   18  NaN    /\\n97       3/31/91    3  NaN    /   31  NaN    /\\n98       5/13/72    5  NaN    /   13  NaN    /\\n99      11/14/83   11  NaN    /   14  NaN    /\\n100      8/16/92    8  NaN    /   16  NaN    /\\n101     10/05/97   10  NaN    /   05  NaN    /\\n102   07/18/2002   07  NaN    /   18  NaN    /\\n103      9/22/82    9  NaN    /   22  NaN    /\\n104      2/24/74    2  NaN    /   24  NaN    /\\n105      2/03/78    2  NaN    /   03  NaN    /\\n106    2/11/2006    2  NaN    /   11  NaN    /\\n107         8/22       NaN         8  NaN    /\\n108         5/04       NaN         5  NaN    /\\n109    7/20/2011    7  NaN    /   20  NaN    /\\n110      6/17/95    6  NaN    /   17  NaN    /\\n111      6/10/72    6  NaN    /   10  NaN    /\\n112        10/16       NaN        10  NaN    /\\n113     12/15/92   12  NaN    /   15  NaN    /\\n114      12/8/97   12  NaN    /    8  NaN    /\\n115      4/05/89    4  NaN    /   05  NaN    /\\n116     12/04/87   12  NaN    /   04  NaN    /\\n117      6/20/77    6  NaN    /   20  NaN    /\\n118         4/27       NaN         4  NaN    /\\n119     07/17/92   07  NaN    /   17  NaN    /\\n120     12/22/98   12  NaN    /   22  NaN    /\\n121     10/02/96   10  NaN    /   02  NaN    /\\n122     11/05/90   11  NaN    /   05  NaN    /\\n123      5/04/77    5  NaN    /   04  NaN    /\\n124      2/27/96    2  NaN    /   27  NaN    /\\n125  24 Jan 2001   24  NaN       Jan  Jan     \\n126  10 Sep 2004   10  NaN       Sep  Sep     \\n127  26 May 1982   26  NaN       May  May     \\n128          NaN  NaN  NaN  NaN  NaN  NaN  NaN\\n129  06 May 1972   06  NaN       May  May     \\n130  25 Oct 1987   25  NaN       Oct  Oct     \\n131  14 Oct 1996   14  NaN       Oct  Oct     \\n132  30 Nov 2007   30  NaN       Nov  Nov     \\n133          NaN  NaN  NaN  NaN  NaN  NaN  NaN\\n134  14 Jan 1981   14  NaN       Jan  Jan     \\n135  10 Oct 1985   10  NaN       Oct  Oct     \\n136          NaN  NaN  NaN  NaN  NaN  NaN  NaN\\n137  10 Feb 1983   10  NaN       Feb  Feb     \\n138  05 Feb 1992   05  NaN       Feb  Feb     \\n139  21 Oct 2012   21  NaN       Oct  Oct     \\n140  14 Feb 1995   14  NaN       Feb  Feb     \\n141  30 May 2016   30  NaN       May  May     \\n142  22 Jan 1996   22  NaN       Jan  Jan     \\n143  14 Oct 1992   14  NaN       Oct  Oct     \\n144  06 Oct 2003   06  NaN       Oct  Oct     \\n145  18 Oct 1999   18  NaN       Oct  Oct     \\n146  11 Nov 2004   11  NaN       Nov  Nov     \\n147  30 May 2001   30  NaN       May  May     \\n148  02 Feb 1978   02  NaN       Feb  Feb     \\n149  09 Sep 1989   09  NaN       Sep  Sep     \\n150          NaN  NaN  NaN  NaN  NaN  NaN  NaN\\n151          NaN  NaN  NaN  NaN  NaN  NaN  NaN\\n152  28 Sep 2015   28  NaN       Sep  Sep     \\n153  13 Jan 1972   13  NaN       Jan  Jan     \\n154  06 Mar 1974   06  NaN       Mar  Mar     \\n155  10 Oct 1974   10  NaN       Oct  Oct     \\n156  26 May 1974   26  NaN       May  May     \\n157  10 Feb 1990   10  NaN       Feb  Feb     \\n158  23 Aug 2000   23  NaN       Aug  Aug     \\n159  26 May 2001   26  NaN       May  May     \\n160  21 Oct 2007   21  NaN       Oct  Oct     \\n161  19 Oct 2016   19  NaN       Oct  Oct     \\n162  05 Mar 1974   05  NaN       Mar  Mar     \\n163  29 Jan 1994   29  NaN       Jan  Jan     \\n164  21 Oct 1978   21  NaN       Oct  Oct     \\n165          NaN  NaN  NaN  NaN  NaN  NaN  NaN\\n166  11 Nov 1996   11  NaN       Nov  Nov     \\n167  01 Oct 1979   01  NaN       Oct  Oct     \\n168  13 Oct 1986   13  NaN       Oct  Oct     \\n169  21 Oct 1995   21  NaN       Oct  Oct     \\n170  24 Jan 2011   24  NaN       Jan  Jan     \\n171  04 Oct 1972   04  NaN       Oct  Oct     \\n172  23 Aug 1993   23  NaN       Aug  Aug     \\n173  18 Oct 2006   18  NaN       Oct  Oct     \\n174  04 Dec 1988   04  NaN       Dec  Dec     \\n175  21 Oct 1983   21  NaN       Oct  Oct     \\n176  26 May 2010   26  NaN       May  May     \\n177  18 Jan 1990   18  NaN       Jan  Jan     \\n178  15 Jun 1985   15  NaN       Jun  Jun     \\n179  10 Dec 1982   10  NaN       Dec  Dec     \\n180  09 Dec 1988   09  NaN       Dec  Dec     \\n181          NaN  NaN  NaN  NaN  NaN  NaN  NaN\\n182          NaN  NaN  NaN  NaN  NaN  NaN  NaN\\n183  26 May 2008   26  NaN       May  May     \\n184  11 Nov 2002   11  NaN       Nov  Nov     \\n185  17 Aug 1985   17  NaN       Aug  Aug     \\n186  13 Oct 2016   13  NaN       Oct  Oct     \\n187  14 Jan 2008   14  NaN       Jan  Jan     \\n188          NaN  NaN  NaN  NaN  NaN  NaN  NaN\\n189  21 Oct 1977   21  NaN       Oct  Oct     \\n190  10 Aug 2000   10  NaN       Aug  Aug     \\n191  30 Nov 1972   30  NaN       Nov  Nov     \\n192  06 May 1993   06  NaN       May  May     \\n193  18 Jan 1995   18  NaN       Jan  Jan     \\n194          NaN  NaN  NaN  NaN  NaN  NaN  NaN\\n195       May 30       NaN       May  May     \\n196          NaN  NaN  NaN  NaN  NaN  NaN  NaN\\n197          NaN  NaN  NaN  NaN  NaN  NaN  NaN\\n198          NaN  NaN  NaN  NaN  NaN  NaN  NaN\\n199       Jan 24       NaN       Jan  Jan     \\n200          NaN  NaN  NaN  NaN  NaN  NaN  NaN\\n201          NaN  NaN  NaN  NaN  NaN  NaN  NaN\\n202          NaN  NaN  NaN  NaN  NaN  NaN  NaN\\n203          NaN  NaN  NaN  NaN  NaN  NaN  NaN\\n204          NaN  NaN  NaN  NaN  NaN  NaN  NaN\\n205       Jan 27       NaN       Jan  Jan     \\n206      23 1990       NaN        23  NaN     \\n207      12 2004       NaN        12  NaN     \\n208          NaN  NaN  NaN  NaN  NaN  NaN  NaN\\n209          NaN  NaN  NaN  NaN  NaN  NaN  NaN\\n210          NaN  NaN  NaN  NaN  NaN  NaN  NaN\\n211          NaN  NaN  NaN  NaN  NaN  NaN  NaN\\n212          NaN  NaN  NaN  NaN  NaN  NaN  NaN\\n213          NaN  NaN  NaN  NaN  NaN  NaN  NaN\\n214          NaN  NaN  NaN  NaN  NaN  NaN  NaN\\n215          NaN  NaN  NaN  NaN  NaN  NaN  NaN\\n216          NaN  NaN  NaN  NaN  NaN  NaN  NaN\\n217          NaN  NaN  NaN  NaN  NaN  NaN  NaN\\n218          467       NaN            NaN     \\n219       Dec 14       NaN       Dec  Dec     \\n220          NaN  NaN  NaN  NaN  NaN  NaN  NaN\\n221          NaN  NaN  NaN  NaN  NaN  NaN  NaN\\n222          NaN  NaN  NaN  NaN  NaN  NaN  NaN\\n223      14 1974       NaN        14  NaN     \\n224          NaN  NaN  NaN  NaN  NaN  NaN  NaN\\n225          NaN  NaN  NaN  NaN  NaN  NaN  NaN\\n226          NaN  NaN  NaN  NaN  NaN  NaN  NaN\\n227          NaN  NaN  NaN  NaN  NaN  NaN  NaN\\n228          NaN  NaN  NaN  NaN  NaN  NaN  NaN\\n229          NaN  NaN  NaN  NaN  NaN  NaN  NaN\\n230     May 1986       NaN       May  May     \\n231     May 2016       NaN       May  May     \\n232          NaN  NaN  NaN  NaN  NaN  NaN  NaN\\n233          NaN  NaN  NaN  NaN  NaN  NaN  NaN\\n234     Jul 2003       NaN       Jul  Jul     \\n235          NaN  NaN  NaN  NaN  NaN  NaN  NaN\\n236     May 1995       NaN       May  May     \\n237          NaN  NaN  NaN  NaN  NaN  NaN  NaN\\n238          NaN  NaN  NaN  NaN  NaN  NaN  NaN\\n239     Feb 1978       NaN       Feb  Feb     \\n240          NaN  NaN  NaN  NaN  NaN  NaN  NaN\\n241     May 2004       NaN       May  May     \\n242     Nov 2010       NaN       Nov  Nov     \\n243     Sep 2012       NaN       Sep  Sep     \\n244          NaN  NaN  NaN  NaN  NaN  NaN  NaN\\n245          NaN  NaN  NaN  NaN  NaN  NaN  NaN\\n246          NaN  NaN  NaN  NaN  NaN  NaN  NaN\\n247          NaN  NaN  NaN  NaN  NaN  NaN  NaN\\n248       50-100       NaN        50  NaN    -\\n249          NaN  NaN  NaN  NaN  NaN  NaN  NaN\\n250          NaN  NaN  NaN  NaN  NaN  NaN  NaN\\n251          NaN  NaN  NaN  NaN  NaN  NaN  NaN\\n252     Jan 2007       NaN       Jan  Jan     \\n253     Feb 2016       NaN       Feb  Feb     \\n254          NaN  NaN  NaN  NaN  NaN  NaN  NaN\\n255     Oct 2014       NaN       Oct  Oct     \\n256          NaN  NaN  NaN  NaN  NaN  NaN  NaN\\n257     Sep 2015       NaN       Sep  Sep     \\n258     Apr 1976       NaN       Apr  Apr     \\n259     Nov 1979       NaN       Nov  Nov     \\n260          NaN  NaN  NaN  NaN  NaN  NaN  NaN\\n261     Oct 1986       NaN       Oct  Oct     \\n262     Jun 2002       NaN       Jun  Jun     \\n263          NaN  NaN  NaN  NaN  NaN  NaN  NaN\\n264          NaN  NaN  NaN  NaN  NaN  NaN  NaN\\n265          NaN  NaN  NaN  NaN  NaN  NaN  NaN\\n266          NaN  NaN  NaN  NaN  NaN  NaN  NaN\\n267     Oct 1980       NaN       Oct  Oct     \\n268     Dec 2009       NaN       Dec  Dec     \\n269          NaN  NaN  NaN  NaN  NaN  NaN  NaN\\n270          NaN  NaN  NaN  NaN  NaN  NaN  NaN\\n271          NaN  NaN  NaN  NaN  NaN  NaN  NaN\\n272        2,000       NaN         2  NaN    ,\\n273          NaN  NaN  NaN  NaN  NaN  NaN  NaN\\n274          NaN  NaN  NaN  NaN  NaN  NaN  NaN\\n275          NaN  NaN  NaN  NaN  NaN  NaN  NaN\\n276          NaN  NaN  NaN  NaN  NaN  NaN  NaN\\n277     Apr 2007       NaN       Apr  Apr     \\n278          NaN  NaN  NaN  NaN  NaN  NaN  NaN\\n279     Sep 2013       NaN       Sep  Sep     \\n280          NaN  NaN  NaN  NaN  NaN  NaN  NaN\\n281          NaN  NaN  NaN  NaN  NaN  NaN  NaN\\n282     May 2012       NaN       May  May     \\n283          NaN  NaN  NaN  NaN  NaN  NaN  NaN\\n284     Jan 1987       NaN       Jan  Jan     \\n285          NaN  NaN  NaN  NaN  NaN  NaN  NaN\\n286          NaN  NaN  NaN  NaN  NaN  NaN  NaN\\n287     Mar 2010       NaN       Mar  Mar     \\n288          NaN  NaN  NaN  NaN  NaN  NaN  NaN\\n289     Sep 2007       NaN       Sep  Sep     \\n290          NaN  NaN  NaN  NaN  NaN  NaN  NaN\\n291     Jan 2004       NaN       Jan  Jan     \\n292          NaN  NaN  NaN  NaN  NaN  NaN  NaN\\n293          NaN  NaN  NaN  NaN  NaN  NaN  NaN\\n294          NaN  NaN  NaN  NaN  NaN  NaN  NaN\\n295          NaN  NaN  NaN  NaN  NaN  NaN  NaN\\n296     Aug 1979       NaN       Aug  Aug     \\n297     Jan 2009       NaN       Jan  Jan     \\n298          NaN  NaN  NaN  NaN  NaN  NaN  NaN\\n299          NaN  NaN  NaN  NaN  NaN  NaN  NaN\\n300          NaN  NaN  NaN  NaN  NaN  NaN  NaN\\n301     Dec 1992       NaN       Dec  Dec     \\n302          NaN  NaN  NaN  NaN  NaN  NaN  NaN\\n303          NaN  NaN  NaN  NaN  NaN  NaN  NaN\\n304     Mar 2002       NaN       Mar  Mar     \\n305     Feb 2000       NaN       Feb  Feb     \\n306          NaN  NaN  NaN  NaN  NaN  NaN  NaN\\n307          NaN  NaN  NaN  NaN  NaN  NaN  NaN\\n308          NaN  NaN  NaN  NaN  NaN  NaN  NaN\\n309          NaN  NaN  NaN  NaN  NaN  NaN  NaN\\n310     Oct 1992       NaN       Oct  Oct     \\n311          NaN  NaN  NaN  NaN  NaN  NaN  NaN\\n312          NaN  NaN  NaN  NaN  NaN  NaN  NaN\\n313          NaN  NaN  NaN  NaN  NaN  NaN  NaN\\n314          NaN  NaN  NaN  NaN  NaN  NaN  NaN\\n315     Jun 1976       NaN       Jun  Jun     \\n316     May 2011       NaN       May  May     \\n317          NaN  NaN  NaN  NaN  NaN  NaN  NaN\\n318          NaN  NaN  NaN  NaN  NaN  NaN  NaN\\n319          NaN  NaN  NaN  NaN  NaN  NaN  NaN\\n320          NaN  NaN  NaN  NaN  NaN  NaN  NaN\\n321          NaN  NaN  NaN  NaN  NaN  NaN  NaN\\n322          NaN  NaN  NaN  NaN  NaN  NaN  NaN\\n323          NaN  NaN  NaN  NaN  NaN  NaN  NaN\\n324          NaN  NaN  NaN  NaN  NaN  NaN  NaN\\n325     Jun 2007       NaN       Jun  Jun     \\n326          NaN  NaN  NaN  NaN  NaN  NaN  NaN\\n327          NaN  NaN  NaN  NaN  NaN  NaN  NaN\\n328          NaN  NaN  NaN  NaN  NaN  NaN  NaN\\n329          NaN  NaN  NaN  NaN  NaN  NaN  NaN\\n330          NaN  NaN  NaN  NaN  NaN  NaN  NaN\\n331          NaN  NaN  NaN  NaN  NaN  NaN  NaN\\n332          NaN  NaN  NaN  NaN  NaN  NaN  NaN\\n333          NaN  NaN  NaN  NaN  NaN  NaN  NaN\\n334          NaN  NaN  NaN  NaN  NaN  NaN  NaN\\n335          NaN  NaN  NaN  NaN  NaN  NaN  NaN\\n336          NaN  NaN  NaN  NaN  NaN  NaN  NaN\\n337     Dec 2007       NaN       Dec  Dec     \\n338          NaN  NaN  NaN  NaN  NaN  NaN  NaN\\n339          NaN  NaN  NaN  NaN  NaN  NaN  NaN\\n340          NaN  NaN  NaN  NaN  NaN  NaN  NaN\\n341          NaN  NaN  NaN  NaN  NaN  NaN  NaN\\n342          NaN  NaN  NaN  NaN  NaN  NaN  NaN\\n343          NaN  NaN  NaN  NaN  NaN  NaN  NaN\\n344       6/2005       NaN         6  NaN    /\\n345          NaN  NaN  NaN  NaN  NaN  NaN  NaN\\n346          NaN  NaN  NaN  NaN  NaN  NaN  NaN\\n347      03/1980       NaN        03  NaN    /\\n348          NaN  NaN  NaN  NaN  NaN  NaN  NaN\\n349          NaN  NaN  NaN  NaN  NaN  NaN  NaN\\n350          NaN  NaN  NaN  NaN  NaN  NaN  NaN\\n351       8/1974       NaN         8  NaN    /\\n352       3/1986       NaN         3  NaN    /\\n353          NaN  NaN  NaN  NaN  NaN  NaN  NaN\\n354       3/1993       NaN         3  NaN    /\\n355          NaN  NaN  NaN  NaN  NaN  NaN  NaN\\n356       9/2003       NaN         9  NaN    /\\n357      10/1993       NaN        10  NaN    /\\n358       1/1983       NaN         1  NaN    /\\n359       7/1994       NaN         7  NaN    /\\n360          NaN  NaN  NaN  NaN  NaN  NaN  NaN\\n361      10/1980       NaN        10  NaN    /\\n362          NaN  NaN  NaN  NaN  NaN  NaN  NaN\\n363          NaN  NaN  NaN  NaN  NaN  NaN  NaN\\n364      11/2010       NaN        11  NaN    /\\n365       7/1997       NaN         7  NaN    /\\n366       7/2014       NaN         7  NaN    /\\n367       9/2001       NaN         9  NaN    /\\n368       8/1986       NaN         8  NaN    /\\n369          NaN  NaN  NaN  NaN  NaN  NaN  NaN\\n370          NaN  NaN  NaN  NaN  NaN  NaN  NaN\\n371       1/2009       NaN         1  NaN    /\\n372       5/1995       NaN         5  NaN    /\\n373       8/1989       NaN         8  NaN    /\\n374      11/2000       NaN        11  NaN    /\\n375          NaN  NaN  NaN  NaN  NaN  NaN  NaN\\n376          NaN  NaN  NaN  NaN  NaN  NaN  NaN\\n377       6/2001       NaN         6  NaN    /\\n378      12/1978       NaN        12  NaN    /\\n379          NaN  NaN  NaN  NaN  NaN  NaN  NaN\\n380       7/1973       NaN         7  NaN    /\\n381       1/2014       NaN         1  NaN    /\\n382      09/1975       NaN        09  NaN    /\\n383      12/2012       NaN        12  NaN    /\\n384       5/1999       NaN         5  NaN    /\\n385          NaN  NaN  NaN  NaN  NaN  NaN  NaN\\n386          NaN  NaN  NaN  NaN  NaN  NaN  NaN\\n387      11/1998       NaN        11  NaN    /\\n388       3/1995       NaN         3  NaN    /\\n389          NaN  NaN  NaN  NaN  NaN  NaN  NaN\\n390          NaN  NaN  NaN  NaN  NaN  NaN  NaN\\n391          NaN  NaN  NaN  NaN  NaN  NaN  NaN\\n392    67 5/2000   67  NaN         5  NaN    /\\n393          NaN  NaN  NaN  NaN  NaN  NaN  NaN\\n394      10/2001       NaN        10  NaN    /\\n395          NaN  NaN  NaN  NaN  NaN  NaN  NaN\\n396          NaN  NaN  NaN  NaN  NaN  NaN  NaN\\n397          NaN  NaN  NaN  NaN  NaN  NaN  NaN\\n398       5/1979       NaN         5  NaN    /\\n399       1/1992       NaN         1  NaN    /\\n400      11/2008       NaN        11  NaN    /\\n401      12/2014       NaN        12  NaN    /\\n402       4/1974       NaN         4  NaN    /\\n403      10/1981       NaN        10  NaN    /\\n404          NaN  NaN  NaN  NaN  NaN  NaN  NaN\\n405      03/1973       NaN        03  NaN    /\\n406          NaN  NaN  NaN  NaN  NaN  NaN  NaN\\n407       8/1999       NaN         8  NaN    /\\n408      10/2010       NaN        10  NaN    /\\n409      10/1994       NaN        10  NaN    /\\n410      01/2007       NaN        01  NaN    /\\n411          NaN  NaN  NaN  NaN  NaN  NaN  NaN\\n412      03/1990       NaN        03  NaN    /\\n413          NaN  NaN  NaN  NaN  NaN  NaN  NaN\\n414          NaN  NaN  NaN  NaN  NaN  NaN  NaN\\n415          NaN  NaN  NaN  NaN  NaN  NaN  NaN\\n416       7/1987       NaN         7  NaN    /\\n417      -8/2000       NaN    -    8  NaN    /\\n418       8/1975       NaN         8  NaN    /\\n419       5/1977       NaN         5  NaN    /\\n420       3/2000       NaN         3  NaN    /\\n421       9/1984       NaN         9  NaN    /\\n422          NaN  NaN  NaN  NaN  NaN  NaN  NaN\\n423      12/1986       NaN        12  NaN    /\\n424       4/1979       NaN         4  NaN    /\\n425       7/2004       NaN         7  NaN    /\\n426      11/1984       NaN        11  NaN    /\\n427       5/2016       NaN         5  NaN    /\\n428          NaN  NaN  NaN  NaN  NaN  NaN  NaN\\n429          NaN  NaN  NaN  NaN  NaN  NaN  NaN\\n430          NaN  NaN  NaN  NaN  NaN  NaN  NaN\\n431       4/2013       NaN         4  NaN    /\\n432       4/1999       NaN         4  NaN    /\\n433       5/2006       NaN         5  NaN    /\\n434          NaN  NaN  NaN  NaN  NaN  NaN  NaN\\n435      12/1989       NaN        12  NaN    /\\n436       2/1974       NaN         2  NaN    /\\n437      11/1986       NaN        11  NaN    /\\n438       4/1983       NaN         4  NaN    /\\n439      10/2014       NaN        10  NaN    /\\n440          NaN  NaN  NaN  NaN  NaN  NaN  NaN\\n441          NaN  NaN  NaN  NaN  NaN  NaN  NaN\\n442          NaN  NaN  NaN  NaN  NaN  NaN  NaN\\n443       9/2000       NaN         9  NaN    /\\n444          NaN  NaN  NaN  NaN  NaN  NaN  NaN\\n445       1/2008       NaN         1  NaN    /\\n446       4/2002       NaN         4  NaN    /\\n447       7/1985       NaN         7  NaN    /\\n448          NaN  NaN  NaN  NaN  NaN  NaN  NaN\\n449       8/2002       NaN         8  NaN    /\\n450          NaN  NaN  NaN  NaN  NaN  NaN  NaN\\n451      12/2004       NaN        12  NaN    /\\n452       3/2003       NaN         3  NaN    /\\n453          NaN  NaN  NaN  NaN  NaN  NaN  NaN\\n454          NaN  NaN  NaN  NaN  NaN  NaN  NaN\\n455          NaN  NaN  NaN  NaN  NaN  NaN  NaN\\n456          NaN  NaN  NaN  NaN  NaN  NaN  NaN\\n457          NaN  NaN  NaN  NaN  NaN  NaN  NaN\\n458          NaN  NaN  NaN  NaN  NaN  NaN  NaN\\n459          NaN  NaN  NaN  NaN  NaN  NaN  NaN\\n460          NaN  NaN  NaN  NaN  NaN  NaN  NaN\\n461          NaN  NaN  NaN  NaN  NaN  NaN  NaN\\n462          NaN  NaN  NaN  NaN  NaN  NaN  NaN\\n463           25       NaN            NaN     \\n464          NaN  NaN  NaN  NaN  NaN  NaN  NaN\\n465          NaN  NaN  NaN  NaN  NaN  NaN  NaN\\n466          NaN  NaN  NaN  NaN  NaN  NaN  NaN\\n467          NaN  NaN  NaN  NaN  NaN  NaN  NaN\\n468          NaN  NaN  NaN  NaN  NaN  NaN  NaN\\n469          NaN  NaN  NaN  NaN  NaN  NaN  NaN\\n470          NaN  NaN  NaN  NaN  NaN  NaN  NaN\\n471          NaN  NaN  NaN  NaN  NaN  NaN  NaN\\n472          NaN  NaN  NaN  NaN  NaN  NaN  NaN\\n473          NaN  NaN  NaN  NaN  NaN  NaN  NaN\\n474          NaN  NaN  NaN  NaN  NaN  NaN  NaN\\n475          NaN  NaN  NaN  NaN  NaN  NaN  NaN\\n476          NaN  NaN  NaN  NaN  NaN  NaN  NaN\\n477          NaN  NaN  NaN  NaN  NaN  NaN  NaN\\n478          NaN  NaN  NaN  NaN  NaN  NaN  NaN\\n479          NaN  NaN  NaN  NaN  NaN  NaN  NaN\\n480          NaN  NaN  NaN  NaN  NaN  NaN  NaN\\n481          NaN  NaN  NaN  NaN  NaN  NaN  NaN\\n482          NaN  NaN  NaN  NaN  NaN  NaN  NaN\\n483          NaN  NaN  NaN  NaN  NaN  NaN  NaN\\n484          NaN  NaN  NaN  NaN  NaN  NaN  NaN\\n485          NaN  NaN  NaN  NaN  NaN  NaN  NaN\\n486       - 1973       NaN    -       NaN     \\n487          NaN  NaN  NaN  NaN  NaN  NaN  NaN\\n488          NaN  NaN  NaN  NaN  NaN  NaN  NaN\\n489          NaN  NaN  NaN  NaN  NaN  NaN  NaN\\n490          NaN  NaN  NaN  NaN  NaN  NaN  NaN\\n491          NaN  NaN  NaN  NaN  NaN  NaN  NaN\\n492          NaN  NaN  NaN  NaN  NaN  NaN  NaN\\n493          NaN  NaN  NaN  NaN  NaN  NaN  NaN\\n494          NaN  NaN  NaN  NaN  NaN  NaN  NaN\\n495          NaN  NaN  NaN  NaN  NaN  NaN  NaN\\n496          NaN  NaN  NaN  NaN  NaN  NaN  NaN\\n497          NaN  NaN  NaN  NaN  NaN  NaN  NaN\\n498          NaN  NaN  NaN  NaN  NaN  NaN  NaN\\n499          NaN  NaN  NaN  NaN  NaN  NaN  NaN'"
      ]
     },
     "execution_count": 3,
     "metadata": {},
     "output_type": "execute_result"
    }
   ],
   "source": [
    "date_sorter().to_string()"
   ]
  },
  {
   "cell_type": "code",
   "execution_count": null,
   "metadata": {
    "deletable": false,
    "editable": false,
    "nbgrader": {
     "cell_type": "code",
     "checksum": "c0843c1f0ad2aaa45fa9ac4012f1aa43",
     "grade": true,
     "grade_id": "cell-373f878879c00996",
     "locked": true,
     "points": 4,
     "schema_version": 3,
     "solution": false,
     "task": false
    }
   },
   "outputs": [],
   "source": []
  },
  {
   "cell_type": "code",
   "execution_count": null,
   "metadata": {
    "deletable": false,
    "editable": false,
    "nbgrader": {
     "cell_type": "code",
     "checksum": "0e2f5bb6bab79c07a81ec366c46c4d49",
     "grade": true,
     "grade_id": "cell-0ebae76e6cd794be",
     "locked": true,
     "points": 1,
     "schema_version": 3,
     "solution": false,
     "task": false
    }
   },
   "outputs": [],
   "source": []
  }
 ],
 "metadata": {
  "coursera": {
   "course_slug": "python-text-mining",
   "graded_item_id": "LvcWI",
   "launcher_item_id": "krne9",
   "part_id": "Mkp1I"
  },
  "kernelspec": {
   "display_name": "Python 3 (ipykernel)",
   "language": "python",
   "name": "python3"
  },
  "language_info": {
   "codemirror_mode": {
    "name": "ipython",
    "version": 3
   },
   "file_extension": ".py",
   "mimetype": "text/x-python",
   "name": "python",
   "nbconvert_exporter": "python",
   "pygments_lexer": "ipython3",
   "version": "3.9.13"
  },
  "vscode": {
   "interpreter": {
    "hash": "aee8b7b246df8f9039afb4144a1f6fd8d2ca17a180786b69acc140d282b71a49"
   }
  }
 },
 "nbformat": 4,
 "nbformat_minor": 4
}
