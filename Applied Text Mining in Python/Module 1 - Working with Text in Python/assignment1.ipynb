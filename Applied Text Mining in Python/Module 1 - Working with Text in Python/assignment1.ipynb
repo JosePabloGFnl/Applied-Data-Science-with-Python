{
 "cells": [
  {
   "cell_type": "markdown",
   "metadata": {
    "deletable": false,
    "editable": false,
    "nbgrader": {
     "cell_type": "markdown",
     "checksum": "cacf7f4360d6d53c622742f64048f72c",
     "grade": false,
     "grade_id": "cell-8a754c8ce8a16eeb",
     "locked": true,
     "schema_version": 3,
     "solution": false,
     "task": false
    }
   },
   "source": [
    "# Assignment 1\n",
    "\n",
    "In this assignment, you'll be working with messy medical data and using regex to extract relevant infromation from the data. \n",
    "\n",
    "Each line of the `dates.txt` file corresponds to a medical note. Each note has a date that needs to be extracted, but each date is encoded in one of many formats.\n",
    "\n",
    "The goal of this assignment is to correctly identify all of the different date variants encoded in this dataset and to properly normalize and sort the dates. \n",
    "\n",
    "Here is a list of some of the variants you might encounter in this dataset:\n",
    "* 04/20/2009; 04/20/09; 4/20/09; 4/3/09\n",
    "* Mar-20-2009; Mar 20, 2009; March 20, 2009;  Mar. 20, 2009; Mar 20 2009;\n",
    "* 20 Mar 2009; 20 March 2009; 20 Mar. 2009; 20 March, 2009\n",
    "* Mar 20th, 2009; Mar 21st, 2009; Mar 22nd, 2009\n",
    "* Feb 2009; Sep 2009; Oct 2010\n",
    "* 6/2008; 12/2009\n",
    "* 2009; 2010\n",
    "\n",
    "Once you have extracted these date patterns from the text, the next step is to sort them in ascending chronological order accoring to the following rules:\n",
    "* Assume all dates in xx/xx/xx format are mm/dd/yy\n",
    "* Assume all dates where year is encoded in only two digits are years from the 1900's (e.g. 1/5/89 is January 5th, 1989)\n",
    "* If the day is missing (e.g. 9/2009), assume it is the first day of the month (e.g. September 1, 2009).\n",
    "* If the month is missing (e.g. 2010), assume it is the first of January of that year (e.g. January 1, 2010).\n",
    "* Watch out for potential typos as this is a raw, real-life derived dataset.\n",
    "\n",
    "With these rules in mind, find the correct date in each note and return a pandas Series in chronological order of the original Series' indices. **This Series should be sorted by a tie-break sort in the format of (\"extracted date\", \"original row number\").**\n",
    "\n",
    "For example if the original series was this:\n",
    "\n",
    "    0    1999\n",
    "    1    2010\n",
    "    2    1978\n",
    "    3    2015\n",
    "    4    1985\n",
    "\n",
    "Your function should return this:\n",
    "\n",
    "    0    2\n",
    "    1    4\n",
    "    2    0\n",
    "    3    1\n",
    "    4    3\n",
    "\n",
    "Your score will be calculated using [Kendall's tau](https://en.wikipedia.org/wiki/Kendall_rank_correlation_coefficient), a correlation measure for ordinal data.\n",
    "\n",
    "*This function should return a Series of length 500 and dtype int.*"
   ]
  },
  {
   "cell_type": "code",
   "execution_count": 1,
   "metadata": {
    "deletable": false,
    "editable": false,
    "nbgrader": {
     "cell_type": "code",
     "checksum": "4b47ce38a503bfb1f113580f394d8667",
     "grade": false,
     "grade_id": "cell-28048f36edc32946",
     "locked": true,
     "schema_version": 3,
     "solution": false,
     "task": false
    }
   },
   "outputs": [
    {
     "data": {
      "text/plain": [
       "0         03/25/93 Total time of visit (in minutes):\\n\n",
       "1                       6/18/85 Primary Care Doctor:\\n\n",
       "2    sshe plans to move as of 7/8/71 In-Home Servic...\n",
       "3                7 on 9/27/75 Audit C Score Current:\\n\n",
       "4    2/6/96 sleep studyPain Treatment Pain Level (N...\n",
       "5                    .Per 7/06/79 Movement D/O note:\\n\n",
       "6    4, 5/18/78 Patient's thoughts about current su...\n",
       "7    10/24/89 CPT Code: 90801 - Psychiatric Diagnos...\n",
       "8                         3/7/86 SOS-10 Total Score:\\n\n",
       "9             (4/10/71)Score-1Audit C Score Current:\\n\n",
       "dtype: object"
      ]
     },
     "execution_count": 1,
     "metadata": {},
     "output_type": "execute_result"
    }
   ],
   "source": [
    "import pandas as pd\n",
    "\n",
    "doc = []\n",
    "with open('assets/dates.txt') as file:\n",
    "    for line in file:\n",
    "        doc.append(line)\n",
    "\n",
    "df = pd.Series(doc)\n",
    "df.head(10)"
   ]
  },
  {
   "cell_type": "code",
   "execution_count": 2,
   "metadata": {
    "deletable": false,
    "nbgrader": {
     "cell_type": "code",
     "checksum": "3e58e227860ae4b02d6bdddd81506787",
     "grade": false,
     "grade_id": "cell-d6f35a51303ed6ff",
     "locked": false,
     "schema_version": 3,
     "solution": true,
     "task": false
    }
   },
   "outputs": [],
   "source": [
    "def date_sorter():\n",
    "    pattern = (\n",
    "        r'(\\d{1,2})(/)(\\d{1,2})(/)(\\d{2,4})|' # 04/20/2009; 04/20/09; 4/20/09; 4/3/09\n",
    "        r'([A-Za-z]{3,})[-\\s](\\d{1,2})[-\\s,]?(\\d{2,4})|' # Mar-20-2009; Mar 20, 2009; March 20, 2009; Mar. 20, 2009; Mar 20 2009\n",
    "        r'(\\d{1,2})[\\s]([A-Za-z]{3,})[-\\s,](\\d{2,4})|' # 20 Mar 2009; 20 March 2009; 20 Mar. 2009; 20 March, 2009\n",
    "    )\n",
    "    # YOUR CODE HERE\n",
    "    #raise NotImplementedError()\n",
    "    order = df.str.extract(pattern)  \n",
    "    return order # Your answer here"
   ]
  },
  {
   "cell_type": "code",
   "execution_count": 3,
   "metadata": {},
   "outputs": [
    {
     "data": {
      "text/plain": [
       "'      0    1    2    3     4          5    6    7    8         9     10\\n0     03    /   25    /    93        NaN  NaN  NaN  NaN       NaN   NaN\\n1      6    /   18    /    85        NaN  NaN  NaN  NaN       NaN   NaN\\n2    NaN  NaN  NaN  NaN   NaN        NaN  NaN  NaN  NaN       NaN   NaN\\n3    NaN  NaN  NaN  NaN   NaN        NaN  NaN  NaN  NaN       NaN   NaN\\n4      2    /    6    /    96        NaN  NaN  NaN  NaN       NaN   NaN\\n5    NaN  NaN  NaN  NaN   NaN        NaN  NaN  NaN  NaN       NaN   NaN\\n6    NaN  NaN  NaN  NaN   NaN        NaN  NaN  NaN  NaN       NaN   NaN\\n7     10    /   24    /    89        NaN  NaN  NaN  NaN       NaN   NaN\\n8      3    /    7    /    86        NaN  NaN  NaN  NaN       NaN   NaN\\n9    NaN  NaN  NaN  NaN   NaN        NaN  NaN  NaN  NaN       NaN   NaN\\n10   NaN  NaN  NaN  NaN   NaN        NaN  NaN  NaN  NaN       NaN   NaN\\n11     4    /   09    /    75        NaN  NaN  NaN  NaN       NaN   NaN\\n12     8    /   01    /    98        NaN  NaN  NaN  NaN       NaN   NaN\\n13     1    /   26    /    72        NaN  NaN  NaN  NaN       NaN   NaN\\n14     5    /   24    /  1990        NaN  NaN  NaN  NaN       NaN   NaN\\n15     1    /   25    /  2011        NaN  NaN  NaN  NaN       NaN   NaN\\n16     4    /   12    /    82        NaN  NaN  NaN  NaN       NaN   NaN\\n17   NaN  NaN  NaN  NaN   NaN        NaN  NaN  NaN  NaN       NaN   NaN\\n18   NaN  NaN  NaN  NaN   NaN        NaN  NaN  NaN  NaN       NaN   NaN\\n19   NaN  NaN  NaN  NaN   NaN        NaN  NaN  NaN  NaN       NaN   NaN\\n20     7    /   21    /    98        NaN  NaN  NaN  NaN       NaN   NaN\\n21    10    /   21    /    79        NaN  NaN  NaN  NaN       NaN   NaN\\n22     3    /   03    /    90        NaN  NaN  NaN  NaN       NaN   NaN\\n23     2    /   11    /    76        NaN  NaN  NaN  NaN       NaN   NaN\\n24    07    /   25    /  1984        NaN  NaN  NaN  NaN       NaN   NaN\\n25   NaN  NaN  NaN  NaN   NaN        NaN  NaN  NaN  NaN       NaN   NaN\\n26     9    /   22    /    89        NaN  NaN  NaN  NaN       NaN   NaN\\n27     9    /   02    /    76        NaN  NaN  NaN  NaN       NaN   NaN\\n28     9    /   12    /    71        NaN  NaN  NaN  NaN       NaN   NaN\\n29    10    /   24    /    86        NaN  NaN  NaN  NaN       NaN   NaN\\n30    03    /   31    /  1985        NaN  NaN  NaN  NaN       NaN   NaN\\n31     7    /   20    /    72        NaN  NaN  NaN  NaN       NaN   NaN\\n32     4    /   12    /    87        NaN  NaN  NaN  NaN       NaN   NaN\\n33    06    /   20    /    91        NaN  NaN  NaN  NaN       NaN   NaN\\n34     5    /   12    /  2012        NaN  NaN  NaN  NaN       NaN   NaN\\n35     3    /   15    /    83        NaN  NaN  NaN  NaN       NaN   NaN\\n36     2    /   14    /    73        NaN  NaN  NaN  NaN       NaN   NaN\\n37     5    /   24    /    88        NaN  NaN  NaN  NaN       NaN   NaN\\n38     7    /   27    /  1986        NaN  NaN  NaN  NaN       NaN   NaN\\n39   NaN  NaN  NaN  NaN   NaN        NaN  NaN  NaN  NaN       NaN   NaN\\n40   NaN  NaN  NaN  NaN   NaN        NaN  NaN  NaN  NaN       NaN   NaN\\n41   NaN  NaN  NaN  NaN   NaN        NaN  NaN  NaN  NaN       NaN   NaN\\n42     8    /   14    /    94        NaN  NaN  NaN  NaN       NaN   NaN\\n43     4    /   13    /  2002        NaN  NaN  NaN  NaN       NaN   NaN\\n44     8    /   16    /    82        NaN  NaN  NaN  NaN       NaN   NaN\\n45     2    /   15    /  1998        NaN  NaN  NaN  NaN       NaN   NaN\\n46     7    /   15    /    91        NaN  NaN  NaN  NaN       NaN   NaN\\n47    06    /   12    /    94        NaN  NaN  NaN  NaN       NaN   NaN\\n48     9    /   17    /    84        NaN  NaN  NaN  NaN       NaN   NaN\\n49     2    /   28    /    75        NaN  NaN  NaN  NaN       NaN   NaN\\n50   NaN  NaN  NaN  NaN   NaN        NaN  NaN  NaN  NaN       NaN   NaN\\n51   NaN  NaN  NaN  NaN   NaN        NaN  NaN  NaN  NaN       NaN   NaN\\n52     6    /   13    /    92        NaN  NaN  NaN  NaN       NaN   NaN\\n53     7    /   11    /    71        NaN  NaN  NaN  NaN       NaN   NaN\\n54    12    /   26    /    86        NaN  NaN  NaN  NaN       NaN   NaN\\n55    10    /   11    /  1987        NaN  NaN  NaN  NaN       NaN   NaN\\n56     3    /   14    /    95        NaN  NaN  NaN  NaN       NaN   NaN\\n57    12    /   01    /    73        NaN  NaN  NaN  NaN       NaN   NaN\\n58   NaN  NaN  NaN  NaN   NaN        NaN  NaN  NaN  NaN       NaN   NaN\\n59    08    /   20    /  1982        NaN  NaN  NaN  NaN       NaN   NaN\\n60     7    /   24    /    95        NaN  NaN  NaN  NaN       NaN   NaN\\n61     8    /   06    /    83        NaN  NaN  NaN  NaN       NaN   NaN\\n62    02    /   22    /    92        NaN  NaN  NaN  NaN       NaN   NaN\\n63     6    /   28    /    87        NaN  NaN  NaN  NaN       NaN   NaN\\n64    07    /   29    /  1994        NaN  NaN  NaN  NaN       NaN   NaN\\n65    08    /   11    /    78        NaN  NaN  NaN  NaN       NaN   NaN\\n66    10    /   29    /    91        NaN  NaN  NaN  NaN       NaN   NaN\\n67     7    /    6    /    91        NaN  NaN  NaN  NaN       NaN   NaN\\n68   NaN  NaN  NaN  NaN   NaN        NaN  NaN  NaN  NaN       NaN   NaN\\n69   NaN  NaN  NaN  NaN   NaN        NaN  NaN  NaN  NaN       NaN   NaN\\n70     7    /   04    /    82        NaN  NaN  NaN  NaN       NaN   NaN\\n71   NaN  NaN  NaN  NaN   NaN        NaN  NaN  NaN  NaN       NaN   NaN\\n72   NaN  NaN  NaN  NaN   NaN        NaN  NaN  NaN  NaN       NaN   NaN\\n73     4    /   12    /    74        NaN  NaN  NaN  NaN       NaN   NaN\\n74    09    /   19    /    81        NaN  NaN  NaN  NaN       NaN   NaN\\n75     9    /    6    /    79        NaN  NaN  NaN  NaN       NaN   NaN\\n76    12    /    5    /    87        NaN  NaN  NaN  NaN       NaN   NaN\\n77    01    /   05    /  1999        NaN  NaN  NaN  NaN       NaN   NaN\\n78     4    /   22    /    80        NaN  NaN  NaN  NaN       NaN   NaN\\n79    10    /   04    /    98        NaN  NaN  NaN  NaN       NaN   NaN\\n80   NaN  NaN  NaN  NaN   NaN        NaN  NaN  NaN  NaN       NaN   NaN\\n81   NaN  NaN  NaN  NaN   NaN        NaN  NaN  NaN  NaN       NaN   NaN\\n82   NaN  NaN  NaN  NaN   NaN        NaN  NaN  NaN  NaN       NaN   NaN\\n83    09    /   14    /  2000        NaN  NaN  NaN  NaN       NaN   NaN\\n84     5    /   18    /    71        NaN  NaN  NaN  NaN       NaN   NaN\\n85     8    /   09    /  1981        NaN  NaN  NaN  NaN       NaN   NaN\\n86     6    /   05    /    93        NaN  NaN  NaN  NaN       NaN   NaN\\n87   NaN  NaN  NaN  NaN   NaN        NaN  NaN  NaN  NaN       NaN   NaN\\n88    12    /    8    /    82        NaN  NaN  NaN  NaN       NaN   NaN\\n89     8    /   26    /    89        NaN  NaN  NaN  NaN       NaN   NaN\\n90    10    /   13    /    95        NaN  NaN  NaN  NaN       NaN   NaN\\n91     4    /   19    /    91        NaN  NaN  NaN  NaN       NaN   NaN\\n92   NaN  NaN  NaN  NaN   NaN        NaN  NaN  NaN  NaN       NaN   NaN\\n93     9    /   20    /    76        NaN  NaN  NaN  NaN       NaN   NaN\\n94    12    /   08    /  1990        NaN  NaN  NaN  NaN       NaN   NaN\\n95     4    /   11    /  1974        NaN  NaN  NaN  NaN       NaN   NaN\\n96     7    /   18    /    86        NaN  NaN  NaN  NaN       NaN   NaN\\n97     3    /   31    /    91        NaN  NaN  NaN  NaN       NaN   NaN\\n98     5    /   13    /    72        NaN  NaN  NaN  NaN       NaN   NaN\\n99   NaN  NaN  NaN  NaN   NaN        NaN  NaN  NaN  NaN       NaN   NaN\\n100    8    /   16    /    92        NaN  NaN  NaN  NaN       NaN   NaN\\n101   10    /   05    /    97        NaN  NaN  NaN  NaN       NaN   NaN\\n102   07    /   18    /  2002        NaN  NaN  NaN  NaN       NaN   NaN\\n103    9    /   22    /    82        NaN  NaN  NaN  NaN       NaN   NaN\\n104    2    /   24    /    74        NaN  NaN  NaN  NaN       NaN   NaN\\n105  NaN  NaN  NaN  NaN   NaN        NaN  NaN  NaN  NaN       NaN   NaN\\n106    2    /   11    /  2006        NaN  NaN  NaN  NaN       NaN   NaN\\n107  NaN  NaN  NaN  NaN   NaN        NaN  NaN  NaN  NaN       NaN   NaN\\n108  NaN  NaN  NaN  NaN   NaN        NaN  NaN  NaN  NaN       NaN   NaN\\n109    7    /   20    /  2011        NaN  NaN  NaN  NaN       NaN   NaN\\n110    6    /   17    /    95        NaN  NaN  NaN  NaN       NaN   NaN\\n111    6    /   10    /    72        NaN  NaN  NaN  NaN       NaN   NaN\\n112  NaN  NaN  NaN  NaN   NaN        NaN  NaN  NaN  NaN       NaN   NaN\\n113   12    /   15    /    92        NaN  NaN  NaN  NaN       NaN   NaN\\n114   12    /    8    /    97        NaN  NaN  NaN  NaN       NaN   NaN\\n115    4    /   05    /    89        NaN  NaN  NaN  NaN       NaN   NaN\\n116   12    /   04    /    87        NaN  NaN  NaN  NaN       NaN   NaN\\n117  NaN  NaN  NaN  NaN   NaN        NaN  NaN  NaN  NaN       NaN   NaN\\n118  NaN  NaN  NaN  NaN   NaN        NaN  NaN  NaN  NaN       NaN   NaN\\n119   07    /   17    /    92        NaN  NaN  NaN  NaN       NaN   NaN\\n120   12    /   22    /    98        NaN  NaN  NaN  NaN       NaN   NaN\\n121   10    /   02    /    96        NaN  NaN  NaN  NaN       NaN   NaN\\n122   11    /   05    /    90        NaN  NaN  NaN  NaN       NaN   NaN\\n123    5    /   04    /    77        NaN  NaN  NaN  NaN       NaN   NaN\\n124    2    /   27    /    96        NaN  NaN  NaN  NaN       NaN   NaN\\n125  NaN  NaN  NaN  NaN   NaN        NaN  NaN  NaN  NaN       NaN   NaN\\n126  NaN  NaN  NaN  NaN   NaN        NaN  NaN  NaN  NaN       NaN   NaN\\n127  NaN  NaN  NaN  NaN   NaN        NaN  NaN  NaN  NaN       NaN   NaN\\n128  NaN  NaN  NaN  NaN   NaN        NaN  NaN  NaN  NaN       NaN   NaN\\n129  NaN  NaN  NaN  NaN   NaN        NaN  NaN  NaN   06       May  1972\\n130  NaN  NaN  NaN  NaN   NaN        NaN  NaN  NaN   25       Oct  1987\\n131  NaN  NaN  NaN  NaN   NaN        NaN  NaN  NaN   14       Oct  1996\\n132  NaN  NaN  NaN  NaN   NaN        NaN  NaN  NaN   30       Nov  2007\\n133  NaN  NaN  NaN  NaN   NaN        NaN  NaN  NaN  NaN       NaN   NaN\\n134  NaN  NaN  NaN  NaN   NaN        NaN  NaN  NaN   14       Jan  1981\\n135  NaN  NaN  NaN  NaN   NaN        NaN  NaN  NaN  NaN       NaN   NaN\\n136  NaN  NaN  NaN  NaN   NaN        NaN  NaN  NaN   11  February  1985\\n137  NaN  NaN  NaN  NaN   NaN        NaN  NaN  NaN  NaN       NaN   NaN\\n138  NaN  NaN  NaN  NaN   NaN        NaN  NaN  NaN  NaN       NaN   NaN\\n139  NaN  NaN  NaN  NaN   NaN        NaN  NaN  NaN  NaN       NaN   NaN\\n140  NaN  NaN  NaN  NaN   NaN        NaN  NaN  NaN   14       Feb  1995\\n141  NaN  NaN  NaN  NaN   NaN        NaN  NaN  NaN   30       May  2016\\n142  NaN  NaN  NaN  NaN   NaN        NaN  NaN  NaN   22       Jan  1996\\n143  NaN  NaN  NaN  NaN   NaN        NaN  NaN  NaN   14       Oct  1992\\n144  NaN  NaN  NaN  NaN   NaN        NaN  NaN  NaN  NaN       NaN   NaN\\n145  NaN  NaN  NaN  NaN   NaN        NaN  NaN  NaN   18       Oct  1999\\n146  NaN  NaN  NaN  NaN   NaN        NaN  NaN  NaN   11       Nov  2004\\n147  NaN  NaN  NaN  NaN   NaN        NaN  NaN  NaN   30       May  2001\\n148  NaN  NaN  NaN  NaN   NaN        NaN  NaN  NaN  NaN       NaN   NaN\\n149  NaN  NaN  NaN  NaN   NaN        NaN  NaN  NaN   09       Sep  1989\\n150  NaN  NaN  NaN  NaN   NaN        NaN  NaN  NaN   12     March  1980\\n151  NaN  NaN  NaN  NaN   NaN        NaN  NaN  NaN   22      June  1990\\n152  NaN  NaN  NaN  NaN   NaN        NaN  NaN  NaN   28       Sep  2015\\n153  NaN  NaN  NaN  NaN   NaN        NaN  NaN  NaN   13       Jan  1972\\n154  NaN  NaN  NaN  NaN   NaN        NaN  NaN  NaN   06       Mar  1974\\n155  NaN  NaN  NaN  NaN   NaN        NaN  NaN  NaN   10       Oct  1974\\n156  NaN  NaN  NaN  NaN   NaN        NaN  NaN  NaN   26       May  1974\\n157  NaN  NaN  NaN  NaN   NaN        NaN  NaN  NaN  NaN       NaN   NaN\\n158  NaN  NaN  NaN  NaN   NaN        NaN  NaN  NaN   23       Aug  2000\\n159  NaN  NaN  NaN  NaN   NaN        NaN  NaN  NaN  NaN       NaN   NaN\\n160  NaN  NaN  NaN  NaN   NaN        NaN  NaN  NaN  NaN       NaN   NaN\\n161  NaN  NaN  NaN  NaN   NaN        NaN  NaN  NaN   19       Oct  2016\\n162  NaN  NaN  NaN  NaN   NaN        NaN  NaN  NaN  NaN       NaN   NaN\\n163  NaN  NaN  NaN  NaN   NaN        NaN  NaN  NaN   29       Jan  1994\\n164  NaN  NaN  NaN  NaN   NaN        NaN  NaN  NaN  NaN       NaN   NaN\\n165  NaN  NaN  NaN  NaN   NaN        NaN  NaN  NaN  NaN       NaN   NaN\\n166  NaN  NaN  NaN  NaN   NaN        NaN  NaN  NaN   11       Nov  1996\\n167  NaN  NaN  NaN  NaN   NaN        NaN  NaN  NaN   01       Oct  1979\\n168  NaN  NaN  NaN  NaN   NaN        NaN  NaN  NaN  NaN       NaN   NaN\\n169  NaN  NaN  NaN  NaN   NaN        NaN  NaN  NaN  NaN       NaN   NaN\\n170  NaN  NaN  NaN  NaN   NaN        NaN  NaN  NaN  NaN       NaN   NaN\\n171  NaN  NaN  NaN  NaN   NaN        NaN  NaN  NaN   04       Oct  1972\\n172  NaN  NaN  NaN  NaN   NaN        NaN  NaN  NaN  NaN       NaN   NaN\\n173  NaN  NaN  NaN  NaN   NaN        NaN  NaN  NaN   18       Oct  2006\\n174  NaN  NaN  NaN  NaN   NaN        NaN  NaN  NaN  NaN       NaN   NaN\\n175  NaN  NaN  NaN  NaN   NaN        NaN  NaN  NaN  NaN       NaN   NaN\\n176  NaN  NaN  NaN  NaN   NaN        NaN  NaN  NaN  NaN       NaN   NaN\\n177  NaN  NaN  NaN  NaN   NaN        NaN  NaN  NaN  NaN       NaN   NaN\\n178  NaN  NaN  NaN  NaN   NaN        NaN  NaN  NaN   15       Jun  1985\\n179  NaN  NaN  NaN  NaN   NaN        NaN  NaN  NaN  NaN       NaN   NaN\\n180  NaN  NaN  NaN  NaN   NaN        NaN  NaN  NaN  NaN       NaN   NaN\\n181  NaN  NaN  NaN  NaN   NaN        NaN  NaN  NaN   18    August  1995\\n182  NaN  NaN  NaN  NaN   NaN        NaN  NaN  NaN  NaN       NaN   NaN\\n183  NaN  NaN  NaN  NaN   NaN        NaN  NaN  NaN  NaN       NaN   NaN\\n184  NaN  NaN  NaN  NaN   NaN        NaN  NaN  NaN   11       Nov  2002\\n185  NaN  NaN  NaN  NaN   NaN        NaN  NaN  NaN  NaN       NaN   NaN\\n186  NaN  NaN  NaN  NaN   NaN        NaN  NaN  NaN   13       Oct  2016\\n187  NaN  NaN  NaN  NaN   NaN        NaN  NaN  NaN   14       Jan  2008\\n188  NaN  NaN  NaN  NaN   NaN        NaN  NaN  NaN   12     March  2004\\n189  NaN  NaN  NaN  NaN   NaN        NaN  NaN  NaN  NaN       NaN   NaN\\n190  NaN  NaN  NaN  NaN   NaN        NaN  NaN  NaN  NaN       NaN   NaN\\n191  NaN  NaN  NaN  NaN   NaN        NaN  NaN  NaN   30       Nov  1972\\n192  NaN  NaN  NaN  NaN   NaN        NaN  NaN  NaN   06       May  1993\\n193  NaN  NaN  NaN  NaN   NaN        NaN  NaN  NaN  NaN       NaN   NaN\\n194  NaN  NaN  NaN  NaN   NaN        NaN  NaN  NaN  NaN       NaN   NaN\\n195  NaN  NaN  NaN  NaN   NaN        NaN  NaN  NaN  NaN       NaN   NaN\\n196  NaN  NaN  NaN  NaN   NaN        NaN  NaN  NaN  NaN       NaN   NaN\\n197  NaN  NaN  NaN  NaN   NaN        NaN  NaN  NaN  NaN       NaN   NaN\\n198  NaN  NaN  NaN  NaN   NaN        NaN  NaN  NaN  NaN       NaN   NaN\\n199  NaN  NaN  NaN  NaN   NaN        NaN  NaN  NaN  NaN       NaN   NaN\\n200  NaN  NaN  NaN  NaN   NaN        NaN  NaN  NaN  NaN       NaN   NaN\\n201  NaN  NaN  NaN  NaN   NaN        NaN  NaN  NaN  NaN       NaN   NaN\\n202  NaN  NaN  NaN  NaN   NaN        NaN  NaN  NaN  NaN       NaN   NaN\\n203  NaN  NaN  NaN  NaN   NaN        NaN  NaN  NaN  NaN       NaN   NaN\\n204  NaN  NaN  NaN  NaN   NaN        NaN  NaN  NaN  NaN       NaN   NaN\\n205  NaN  NaN  NaN  NaN   NaN        NaN  NaN  NaN  NaN       NaN   NaN\\n206  NaN  NaN  NaN  NaN   NaN        NaN  NaN  NaN  NaN       NaN   NaN\\n207  NaN  NaN  NaN  NaN   NaN        NaN  NaN  NaN  NaN       NaN   NaN\\n208  NaN  NaN  NaN  NaN   NaN        NaN  NaN  NaN  NaN       NaN   NaN\\n209  NaN  NaN  NaN  NaN   NaN        NaN  NaN  NaN  NaN       NaN   NaN\\n210  NaN  NaN  NaN  NaN   NaN        NaN  NaN  NaN  NaN       NaN   NaN\\n211  NaN  NaN  NaN  NaN   NaN        NaN  NaN  NaN  NaN       NaN   NaN\\n212  NaN  NaN  NaN  NaN   NaN        NaN  NaN  NaN  NaN       NaN   NaN\\n213  NaN  NaN  NaN  NaN   NaN        NaN  NaN  NaN  NaN       NaN   NaN\\n214  NaN  NaN  NaN  NaN   NaN        NaN  NaN  NaN  NaN       NaN   NaN\\n215  NaN  NaN  NaN  NaN   NaN        NaN  NaN  NaN  NaN       NaN   NaN\\n216  NaN  NaN  NaN  NaN   NaN        NaN  NaN  NaN  NaN       NaN   NaN\\n217  NaN  NaN  NaN  NaN   NaN        NaN  NaN  NaN  NaN       NaN   NaN\\n218  NaN  NaN  NaN  NaN   NaN        NaN  NaN  NaN  NaN       NaN   NaN\\n219  NaN  NaN  NaN  NaN   NaN        NaN  NaN  NaN  NaN       NaN   NaN\\n220  NaN  NaN  NaN  NaN   NaN        NaN  NaN  NaN  NaN       NaN   NaN\\n221  NaN  NaN  NaN  NaN   NaN        NaN  NaN  NaN  NaN       NaN   NaN\\n222  NaN  NaN  NaN  NaN   NaN        NaN  NaN  NaN  NaN       NaN   NaN\\n223  NaN  NaN  NaN  NaN   NaN        NaN  NaN  NaN  NaN       NaN   NaN\\n224  NaN  NaN  NaN  NaN   NaN        NaN  NaN  NaN  NaN       NaN   NaN\\n225  NaN  NaN  NaN  NaN   NaN        NaN  NaN  NaN  NaN       NaN   NaN\\n226  NaN  NaN  NaN  NaN   NaN        NaN  NaN  NaN  NaN       NaN   NaN\\n227  NaN  NaN  NaN  NaN   NaN        NaN  NaN  NaN  NaN       NaN   NaN\\n228  NaN  NaN  NaN  NaN   NaN        NaN  NaN  NaN  NaN       NaN   NaN\\n229  NaN  NaN  NaN  NaN   NaN        NaN  NaN  NaN  NaN       NaN   NaN\\n230  NaN  NaN  NaN  NaN   NaN        NaN  NaN  NaN  NaN       NaN   NaN\\n231  NaN  NaN  NaN  NaN   NaN        NaN  NaN  NaN  NaN       NaN   NaN\\n232  NaN  NaN  NaN  NaN   NaN        NaN  NaN  NaN  NaN       NaN   NaN\\n233  NaN  NaN  NaN  NaN   NaN        NaN  NaN  NaN  NaN       NaN   NaN\\n234  NaN  NaN  NaN  NaN   NaN        NaN  NaN  NaN  NaN       NaN   NaN\\n235  NaN  NaN  NaN  NaN   NaN       pOct   20   15  NaN       NaN   NaN\\n236  NaN  NaN  NaN  NaN   NaN        NaN  NaN  NaN  NaN       NaN   NaN\\n237  NaN  NaN  NaN  NaN   NaN        NaN  NaN  NaN  NaN       NaN   NaN\\n238  NaN  NaN  NaN  NaN   NaN        NaN  NaN  NaN  NaN       NaN   NaN\\n239  NaN  NaN  NaN  NaN   NaN        NaN  NaN  NaN  NaN       NaN   NaN\\n240  NaN  NaN  NaN  NaN   NaN        NaN  NaN  NaN  NaN       NaN   NaN\\n241  NaN  NaN  NaN  NaN   NaN        NaN  NaN  NaN  NaN       NaN   NaN\\n242  NaN  NaN  NaN  NaN   NaN        NaN  NaN  NaN  NaN       NaN   NaN\\n243  NaN  NaN  NaN  NaN   NaN        NaN  NaN  NaN  NaN       NaN   NaN\\n244  NaN  NaN  NaN  NaN   NaN        NaN  NaN  NaN  NaN       NaN   NaN\\n245  NaN  NaN  NaN  NaN   NaN  lNovember   19   90  NaN       NaN   NaN\\n246  NaN  NaN  NaN  NaN   NaN        NaN  NaN  NaN  NaN       NaN   NaN\\n247  NaN  NaN  NaN  NaN   NaN        NaN  NaN  NaN  NaN       NaN   NaN\\n248  NaN  NaN  NaN  NaN   NaN        NaN  NaN  NaN  NaN       NaN   NaN\\n249  NaN  NaN  NaN  NaN   NaN        NaN  NaN  NaN  NaN       NaN   NaN\\n250  NaN  NaN  NaN  NaN   NaN        NaN  NaN  NaN  NaN       NaN   NaN\\n251  NaN  NaN  NaN  NaN   NaN   December   19   98  NaN       NaN   NaN\\n252  NaN  NaN  NaN  NaN   NaN        NaN  NaN  NaN  NaN       NaN   NaN\\n253  NaN  NaN  NaN  NaN   NaN        NaN  NaN  NaN  NaN       NaN   NaN\\n254  NaN  NaN  NaN  NaN   NaN        NaN  NaN  NaN  NaN       NaN   NaN\\n255  NaN  NaN  NaN  NaN   NaN        NaN  NaN  NaN  NaN       NaN   NaN\\n256  NaN  NaN  NaN  NaN   NaN       IAug   19   88  NaN       NaN   NaN\\n257  NaN  NaN  NaN  NaN   NaN        NaN  NaN  NaN  NaN       NaN   NaN\\n258  NaN  NaN  NaN  NaN   NaN        NaN  NaN  NaN  NaN       NaN   NaN\\n259  NaN  NaN  NaN  NaN   NaN        NaN  NaN  NaN  NaN       NaN   NaN\\n260  NaN  NaN  NaN  NaN   NaN        NaN  NaN  NaN  NaN       NaN   NaN\\n261  NaN  NaN  NaN  NaN   NaN        NaN  NaN  NaN  NaN       NaN   NaN\\n262  NaN  NaN  NaN  NaN   NaN        NaN  NaN  NaN  NaN       NaN   NaN\\n263  NaN  NaN  NaN  NaN   NaN        NaN  NaN  NaN  NaN       NaN   NaN\\n264  NaN  NaN  NaN  NaN   NaN        NaN  NaN  NaN  NaN       NaN   NaN\\n265  NaN  NaN  NaN  NaN   NaN        NaN  NaN  NaN  NaN       NaN   NaN\\n266  NaN  NaN  NaN  NaN   NaN  September   19   99  NaN       NaN   NaN\\n267  NaN  NaN  NaN  NaN   NaN        NaN  NaN  NaN  NaN       NaN   NaN\\n268  NaN  NaN  NaN  NaN   NaN        NaN  NaN  NaN  NaN       NaN   NaN\\n269  NaN  NaN  NaN  NaN   NaN        NaN  NaN  NaN  NaN       NaN   NaN\\n270  NaN  NaN  NaN  NaN   NaN        NaN  NaN  NaN  NaN       NaN   NaN\\n271  NaN  NaN  NaN  NaN   NaN        NaN  NaN  NaN  NaN       NaN   NaN\\n272  NaN  NaN  NaN  NaN   NaN        NaN  NaN  NaN  NaN       NaN   NaN\\n273  NaN  NaN  NaN  NaN   NaN        NaN  NaN  NaN  NaN       NaN   NaN\\n274  NaN  NaN  NaN  NaN   NaN        NaN  NaN  NaN  NaN       NaN   NaN\\n275  NaN  NaN  NaN  NaN   NaN        NaN  NaN  NaN  NaN       NaN   NaN\\n276  NaN  NaN  NaN  NaN   NaN      April   19   86  NaN       NaN   NaN\\n277  NaN  NaN  NaN  NaN   NaN        NaN  NaN  NaN  NaN       NaN   NaN\\n278  NaN  NaN  NaN  NaN   NaN        NaN  NaN  NaN  NaN       NaN   NaN\\n279  NaN  NaN  NaN  NaN   NaN        NaN  NaN  NaN  NaN       NaN   NaN\\n280  NaN  NaN  NaN  NaN   NaN        NaN  NaN  NaN  NaN       NaN   NaN\\n281  NaN  NaN  NaN  NaN   NaN       yAug   20   04  NaN       NaN   NaN\\n282  NaN  NaN  NaN  NaN   NaN        NaN  NaN  NaN  NaN       NaN   NaN\\n283  NaN  NaN  NaN  NaN   NaN       AFeb   19   77  NaN       NaN   NaN\\n284  NaN  NaN  NaN  NaN   NaN        NaN  NaN  NaN  NaN       NaN   NaN\\n285  NaN  NaN  NaN  NaN   NaN       sSep   19   83  NaN       NaN   NaN\\n286  NaN  NaN  NaN  NaN   NaN        NaN  NaN  NaN  NaN       NaN   NaN\\n287  NaN  NaN  NaN  NaN   NaN        NaN  NaN  NaN  NaN       NaN   NaN\\n288  NaN  NaN  NaN  NaN   NaN        NaN  NaN  NaN  NaN       NaN   NaN\\n289  NaN  NaN  NaN  NaN   NaN        NaN  NaN  NaN  NaN       NaN   NaN\\n290  NaN  NaN  NaN  NaN   NaN        NaN  NaN  NaN  NaN       NaN   NaN\\n291  NaN  NaN  NaN  NaN   NaN        NaN  NaN  NaN  NaN       NaN   NaN\\n292  NaN  NaN  NaN  NaN   NaN        NaN  NaN  NaN  NaN       NaN   NaN\\n293  NaN  NaN  NaN  NaN   NaN        NaN  NaN  NaN  NaN       NaN   NaN\\n294  NaN  NaN  NaN  NaN   NaN   February   19   83  NaN       NaN   NaN\\n295  NaN  NaN  NaN  NaN   NaN        NaN  NaN  NaN  NaN       NaN   NaN\\n296  NaN  NaN  NaN  NaN   NaN        NaN  NaN  NaN  NaN       NaN   NaN\\n297  NaN  NaN  NaN  NaN   NaN        NaN  NaN  NaN  NaN       NaN   NaN\\n298  NaN  NaN  NaN  NaN   NaN        NaN  NaN  NaN  NaN       NaN   NaN\\n299  NaN  NaN  NaN  NaN   NaN      March   19   74  NaN       NaN   NaN\\n300  NaN  NaN  NaN  NaN   NaN        NaN  NaN  NaN  NaN       NaN   NaN\\n301  NaN  NaN  NaN  NaN   NaN        NaN  NaN  NaN  NaN       NaN   NaN\\n302  NaN  NaN  NaN  NaN   NaN        NaN  NaN  NaN  NaN       NaN   NaN\\n303  NaN  NaN  NaN  NaN   NaN        NaN  NaN  NaN  NaN       NaN   NaN\\n304  NaN  NaN  NaN  NaN   NaN        NaN  NaN  NaN  NaN       NaN   NaN\\n305  NaN  NaN  NaN  NaN   NaN        NaN  NaN  NaN  NaN       NaN   NaN\\n306  NaN  NaN  NaN  NaN   NaN        NaN  NaN  NaN  NaN       NaN   NaN\\n307  NaN  NaN  NaN  NaN   NaN        NaN  NaN  NaN  NaN       NaN   NaN\\n308  NaN  NaN  NaN  NaN   NaN        NaN  NaN  NaN  NaN       NaN   NaN\\n309  NaN  NaN  NaN  NaN   NaN        NaN  NaN  NaN  NaN       NaN   NaN\\n310  NaN  NaN  NaN  NaN   NaN        NaN  NaN  NaN  NaN       NaN   NaN\\n311  NaN  NaN  NaN  NaN   NaN        NaN  NaN  NaN  NaN       NaN   NaN\\n312  NaN  NaN  NaN  NaN   NaN        NaN  NaN  NaN  NaN       NaN   NaN\\n313  NaN  NaN  NaN  NaN   NaN        NaN  NaN  NaN  NaN       NaN   NaN\\n314  NaN  NaN  NaN  NaN   NaN        NaN  NaN  NaN  NaN       NaN   NaN\\n315  NaN  NaN  NaN  NaN   NaN        NaN  NaN  NaN  NaN       NaN   NaN\\n316  NaN  NaN  NaN  NaN   NaN        NaN  NaN  NaN  NaN       NaN   NaN\\n317  NaN  NaN  NaN  NaN   NaN        NaN  NaN  NaN  NaN       NaN   NaN\\n318  NaN  NaN  NaN  NaN   NaN        NaN  NaN  NaN  NaN       NaN   NaN\\n319  NaN  NaN  NaN  NaN   NaN        NaN  NaN  NaN  NaN       NaN   NaN\\n320  NaN  NaN  NaN  NaN   NaN        NaN  NaN  NaN  NaN       NaN   NaN\\n321  NaN  NaN  NaN  NaN   NaN        NaN  NaN  NaN  NaN       NaN   NaN\\n322  NaN  NaN  NaN  NaN   NaN        NaN  NaN  NaN  NaN       NaN   NaN\\n323  NaN  NaN  NaN  NaN   NaN        NaN  NaN  NaN  NaN       NaN   NaN\\n324  NaN  NaN  NaN  NaN   NaN        NaN  NaN  NaN  NaN       NaN   NaN\\n325  NaN  NaN  NaN  NaN   NaN        NaN  NaN  NaN  NaN       NaN   NaN\\n326  NaN  NaN  NaN  NaN   NaN        NaN  NaN  NaN  NaN       NaN   NaN\\n327  NaN  NaN  NaN  NaN   NaN        NaN  NaN  NaN  NaN       NaN   NaN\\n328  NaN  NaN  NaN  NaN   NaN        NaN  NaN  NaN  NaN       NaN   NaN\\n329  NaN  NaN  NaN  NaN   NaN        NaN  NaN  NaN  NaN       NaN   NaN\\n330  NaN  NaN  NaN  NaN   NaN        NaN  NaN  NaN  NaN       NaN   NaN\\n331  NaN  NaN  NaN  NaN   NaN        NaN  NaN  NaN  NaN       NaN   NaN\\n332  NaN  NaN  NaN  NaN   NaN        NaN  NaN  NaN  NaN       NaN   NaN\\n333  NaN  NaN  NaN  NaN   NaN  sNovember   19   97  NaN       NaN   NaN\\n334  NaN  NaN  NaN  NaN   NaN        NaN  NaN  NaN  NaN       NaN   NaN\\n335  NaN  NaN  NaN  NaN   NaN        NaN  NaN  NaN  NaN       NaN   NaN\\n336  NaN  NaN  NaN  NaN   NaN        NaN  NaN  NaN  NaN       NaN   NaN\\n337  NaN  NaN  NaN  NaN   NaN        NaN  NaN  NaN  NaN       NaN   NaN\\n338  NaN  NaN  NaN  NaN   NaN        NaN  NaN  NaN  NaN       NaN   NaN\\n339  NaN  NaN  NaN  NaN   NaN        NaN  NaN  NaN  NaN       NaN   NaN\\n340  NaN  NaN  NaN  NaN   NaN        NaN  NaN  NaN  NaN       NaN   NaN\\n341  NaN  NaN  NaN  NaN   NaN        NaN  NaN  NaN  NaN       NaN   NaN\\n342  NaN  NaN  NaN  NaN   NaN        NaN  NaN  NaN  NaN       NaN   NaN\\n343  NaN  NaN  NaN  NaN   NaN        NaN  NaN  NaN  NaN       NaN   NaN\\n344  NaN  NaN  NaN  NaN   NaN        NaN  NaN  NaN  NaN       NaN   NaN\\n345  NaN  NaN  NaN  NaN   NaN        NaN  NaN  NaN  NaN       NaN   NaN\\n346  NaN  NaN  NaN  NaN   NaN        NaN  NaN  NaN  NaN       NaN   NaN\\n347  NaN  NaN  NaN  NaN   NaN        NaN  NaN  NaN  NaN       NaN   NaN\\n348  NaN  NaN  NaN  NaN   NaN        NaN  NaN  NaN  NaN       NaN   NaN\\n349  NaN  NaN  NaN  NaN   NaN        NaN  NaN  NaN  NaN       NaN   NaN\\n350  NaN  NaN  NaN  NaN   NaN        NaN  NaN  NaN  NaN       NaN   NaN\\n351  NaN  NaN  NaN  NaN   NaN        NaN  NaN  NaN  NaN       NaN   NaN\\n352  NaN  NaN  NaN  NaN   NaN        NaN  NaN  NaN  NaN       NaN   NaN\\n353  NaN  NaN  NaN  NaN   NaN        NaN  NaN  NaN  NaN       NaN   NaN\\n354  NaN  NaN  NaN  NaN   NaN        NaN  NaN  NaN  NaN       NaN   NaN\\n355  NaN  NaN  NaN  NaN   NaN        NaN  NaN  NaN  NaN       NaN   NaN\\n356  NaN  NaN  NaN  NaN   NaN        NaN  NaN  NaN  NaN       NaN   NaN\\n357  NaN  NaN  NaN  NaN   NaN        NaN  NaN  NaN  NaN       NaN   NaN\\n358  NaN  NaN  NaN  NaN   NaN        NaN  NaN  NaN  NaN       NaN   NaN\\n359  NaN  NaN  NaN  NaN   NaN        NaN  NaN  NaN  NaN       NaN   NaN\\n360  NaN  NaN  NaN  NaN   NaN        NaN  NaN  NaN  NaN       NaN   NaN\\n361  NaN  NaN  NaN  NaN   NaN        NaN  NaN  NaN  NaN       NaN   NaN\\n362  NaN  NaN  NaN  NaN   NaN        NaN  NaN  NaN  NaN       NaN   NaN\\n363  NaN  NaN  NaN  NaN   NaN        NaN  NaN  NaN  NaN       NaN   NaN\\n364  NaN  NaN  NaN  NaN   NaN        NaN  NaN  NaN  NaN       NaN   NaN\\n365  NaN  NaN  NaN  NaN   NaN        NaN  NaN  NaN  NaN       NaN   NaN\\n366  NaN  NaN  NaN  NaN   NaN        NaN  NaN  NaN  NaN       NaN   NaN\\n367  NaN  NaN  NaN  NaN   NaN        NaN  NaN  NaN  NaN       NaN   NaN\\n368  NaN  NaN  NaN  NaN   NaN        NaN  NaN  NaN  NaN       NaN   NaN\\n369  NaN  NaN  NaN  NaN   NaN        NaN  NaN  NaN  NaN       NaN   NaN\\n370  NaN  NaN  NaN  NaN   NaN        NaN  NaN  NaN  NaN       NaN   NaN\\n371  NaN  NaN  NaN  NaN   NaN        NaN  NaN  NaN  NaN       NaN   NaN\\n372  NaN  NaN  NaN  NaN   NaN        NaN  NaN  NaN  NaN       NaN   NaN\\n373  NaN  NaN  NaN  NaN   NaN        NaN  NaN  NaN  NaN       NaN   NaN\\n374  NaN  NaN  NaN  NaN   NaN        NaN  NaN  NaN  NaN       NaN   NaN\\n375  NaN  NaN  NaN  NaN   NaN        NaN  NaN  NaN  NaN       NaN   NaN\\n376  NaN  NaN  NaN  NaN   NaN        NaN  NaN  NaN  NaN       NaN   NaN\\n377  NaN  NaN  NaN  NaN   NaN        NaN  NaN  NaN  NaN       NaN   NaN\\n378  NaN  NaN  NaN  NaN   NaN        NaN  NaN  NaN  NaN       NaN   NaN\\n379  NaN  NaN  NaN  NaN   NaN        NaN  NaN  NaN  NaN       NaN   NaN\\n380  NaN  NaN  NaN  NaN   NaN        NaN  NaN  NaN  NaN       NaN   NaN\\n381  NaN  NaN  NaN  NaN   NaN        NaN  NaN  NaN  NaN       NaN   NaN\\n382  NaN  NaN  NaN  NaN   NaN        NaN  NaN  NaN  NaN       NaN   NaN\\n383  NaN  NaN  NaN  NaN   NaN        NaN  NaN  NaN  NaN       NaN   NaN\\n384  NaN  NaN  NaN  NaN   NaN        NaN  NaN  NaN  NaN       NaN   NaN\\n385  NaN  NaN  NaN  NaN   NaN        NaN  NaN  NaN  NaN       NaN   NaN\\n386  NaN  NaN  NaN  NaN   NaN        NaN  NaN  NaN  NaN       NaN   NaN\\n387  NaN  NaN  NaN  NaN   NaN        NaN  NaN  NaN  NaN       NaN   NaN\\n388  NaN  NaN  NaN  NaN   NaN        NaN  NaN  NaN  NaN       NaN   NaN\\n389  NaN  NaN  NaN  NaN   NaN        NaN  NaN  NaN  NaN       NaN   NaN\\n390  NaN  NaN  NaN  NaN   NaN        NaN  NaN  NaN  NaN       NaN   NaN\\n391  NaN  NaN  NaN  NaN   NaN        NaN  NaN  NaN  NaN       NaN   NaN\\n392  NaN  NaN  NaN  NaN   NaN        NaN  NaN  NaN  NaN       NaN   NaN\\n393  NaN  NaN  NaN  NaN   NaN        NaN  NaN  NaN  NaN       NaN   NaN\\n394  NaN  NaN  NaN  NaN   NaN        NaN  NaN  NaN  NaN       NaN   NaN\\n395  NaN  NaN  NaN  NaN   NaN        NaN  NaN  NaN  NaN       NaN   NaN\\n396  NaN  NaN  NaN  NaN   NaN        NaN  NaN  NaN  NaN       NaN   NaN\\n397  NaN  NaN  NaN  NaN   NaN        NaN  NaN  NaN  NaN       NaN   NaN\\n398  NaN  NaN  NaN  NaN   NaN        NaN  NaN  NaN  NaN       NaN   NaN\\n399  NaN  NaN  NaN  NaN   NaN        NaN  NaN  NaN  NaN       NaN   NaN\\n400  NaN  NaN  NaN  NaN   NaN        NaN  NaN  NaN  NaN       NaN   NaN\\n401  NaN  NaN  NaN  NaN   NaN        NaN  NaN  NaN  NaN       NaN   NaN\\n402  NaN  NaN  NaN  NaN   NaN        NaN  NaN  NaN  NaN       NaN   NaN\\n403  NaN  NaN  NaN  NaN   NaN        NaN  NaN  NaN  NaN       NaN   NaN\\n404  NaN  NaN  NaN  NaN   NaN        NaN  NaN  NaN  NaN       NaN   NaN\\n405  NaN  NaN  NaN  NaN   NaN        NaN  NaN  NaN  NaN       NaN   NaN\\n406  NaN  NaN  NaN  NaN   NaN        NaN  NaN  NaN  NaN       NaN   NaN\\n407  NaN  NaN  NaN  NaN   NaN        NaN  NaN  NaN  NaN       NaN   NaN\\n408  NaN  NaN  NaN  NaN   NaN        NaN  NaN  NaN  NaN       NaN   NaN\\n409  NaN  NaN  NaN  NaN   NaN        NaN  NaN  NaN  NaN       NaN   NaN\\n410  NaN  NaN  NaN  NaN   NaN        NaN  NaN  NaN  NaN       NaN   NaN\\n411  NaN  NaN  NaN  NaN   NaN        NaN  NaN  NaN  NaN       NaN   NaN\\n412  NaN  NaN  NaN  NaN   NaN        NaN  NaN  NaN  NaN       NaN   NaN\\n413  NaN  NaN  NaN  NaN   NaN        NaN  NaN  NaN  NaN       NaN   NaN\\n414  NaN  NaN  NaN  NaN   NaN        NaN  NaN  NaN  NaN       NaN   NaN\\n415  NaN  NaN  NaN  NaN   NaN        NaN  NaN  NaN  NaN       NaN   NaN\\n416  NaN  NaN  NaN  NaN   NaN        NaN  NaN  NaN  NaN       NaN   NaN\\n417  NaN  NaN  NaN  NaN   NaN        NaN  NaN  NaN  NaN       NaN   NaN\\n418  NaN  NaN  NaN  NaN   NaN        NaN  NaN  NaN  NaN       NaN   NaN\\n419  NaN  NaN  NaN  NaN   NaN        NaN  NaN  NaN  NaN       NaN   NaN\\n420  NaN  NaN  NaN  NaN   NaN        NaN  NaN  NaN  NaN       NaN   NaN\\n421  NaN  NaN  NaN  NaN   NaN        NaN  NaN  NaN  NaN       NaN   NaN\\n422  NaN  NaN  NaN  NaN   NaN        NaN  NaN  NaN  NaN       NaN   NaN\\n423  NaN  NaN  NaN  NaN   NaN        NaN  NaN  NaN  NaN       NaN   NaN\\n424  NaN  NaN  NaN  NaN   NaN        NaN  NaN  NaN  NaN       NaN   NaN\\n425  NaN  NaN  NaN  NaN   NaN        NaN  NaN  NaN  NaN       NaN   NaN\\n426  NaN  NaN  NaN  NaN   NaN        NaN  NaN  NaN  NaN       NaN   NaN\\n427  NaN  NaN  NaN  NaN   NaN        NaN  NaN  NaN  NaN       NaN   NaN\\n428  NaN  NaN  NaN  NaN   NaN        NaN  NaN  NaN  NaN       NaN   NaN\\n429  NaN  NaN  NaN  NaN   NaN        NaN  NaN  NaN  NaN       NaN   NaN\\n430  NaN  NaN  NaN  NaN   NaN        NaN  NaN  NaN  NaN       NaN   NaN\\n431  NaN  NaN  NaN  NaN   NaN        NaN  NaN  NaN  NaN       NaN   NaN\\n432  NaN  NaN  NaN  NaN   NaN        NaN  NaN  NaN  NaN       NaN   NaN\\n433  NaN  NaN  NaN  NaN   NaN        NaN  NaN  NaN  NaN       NaN   NaN\\n434  NaN  NaN  NaN  NaN   NaN        NaN  NaN  NaN  NaN       NaN   NaN\\n435  NaN  NaN  NaN  NaN   NaN        NaN  NaN  NaN  NaN       NaN   NaN\\n436  NaN  NaN  NaN  NaN   NaN        NaN  NaN  NaN  NaN       NaN   NaN\\n437  NaN  NaN  NaN  NaN   NaN        NaN  NaN  NaN  NaN       NaN   NaN\\n438  NaN  NaN  NaN  NaN   NaN        NaN  NaN  NaN  NaN       NaN   NaN\\n439  NaN  NaN  NaN  NaN   NaN        NaN  NaN  NaN  NaN       NaN   NaN\\n440  NaN  NaN  NaN  NaN   NaN        NaN  NaN  NaN  NaN       NaN   NaN\\n441  NaN  NaN  NaN  NaN   NaN        NaN  NaN  NaN  NaN       NaN   NaN\\n442  NaN  NaN  NaN  NaN   NaN        NaN  NaN  NaN  NaN       NaN   NaN\\n443  NaN  NaN  NaN  NaN   NaN        NaN  NaN  NaN  NaN       NaN   NaN\\n444  NaN  NaN  NaN  NaN   NaN        NaN  NaN  NaN  NaN       NaN   NaN\\n445  NaN  NaN  NaN  NaN   NaN        NaN  NaN  NaN  NaN       NaN   NaN\\n446  NaN  NaN  NaN  NaN   NaN        NaN  NaN  NaN  NaN       NaN   NaN\\n447  NaN  NaN  NaN  NaN   NaN        NaN  NaN  NaN  NaN       NaN   NaN\\n448  NaN  NaN  NaN  NaN   NaN        NaN  NaN  NaN  NaN       NaN   NaN\\n449  NaN  NaN  NaN  NaN   NaN        NaN  NaN  NaN  NaN       NaN   NaN\\n450  NaN  NaN  NaN  NaN   NaN        NaN  NaN  NaN  NaN       NaN   NaN\\n451  NaN  NaN  NaN  NaN   NaN        NaN  NaN  NaN  NaN       NaN   NaN\\n452  NaN  NaN  NaN  NaN   NaN        NaN  NaN  NaN  NaN       NaN   NaN\\n453  NaN  NaN  NaN  NaN   NaN        NaN  NaN  NaN  NaN       NaN   NaN\\n454  NaN  NaN  NaN  NaN   NaN        NaN  NaN  NaN  NaN       NaN   NaN\\n455  NaN  NaN  NaN  NaN   NaN        NaN  NaN  NaN  NaN       NaN   NaN\\n456  NaN  NaN  NaN  NaN   NaN        NaN  NaN  NaN  NaN       NaN   NaN\\n457  NaN  NaN  NaN  NaN   NaN        NaN  NaN  NaN  NaN       NaN   NaN\\n458  NaN  NaN  NaN  NaN   NaN        NaN  NaN  NaN  NaN       NaN   NaN\\n459  NaN  NaN  NaN  NaN   NaN     sSince   19   98  NaN       NaN   NaN\\n460  NaN  NaN  NaN  NaN   NaN        NaN  NaN  NaN  NaN       NaN   NaN\\n461  NaN  NaN  NaN  NaN   NaN        NaN  NaN  NaN  NaN       NaN   NaN\\n462  NaN  NaN  NaN  NaN   NaN        NaN  NaN  NaN  NaN       NaN   NaN\\n463  NaN  NaN  NaN  NaN   NaN        NaN  NaN  NaN  NaN       NaN   NaN\\n464  NaN  NaN  NaN  NaN   NaN        NaN  NaN  NaN  NaN       NaN   NaN\\n465  NaN  NaN  NaN  NaN   NaN        NaN  NaN  NaN  NaN       NaN   NaN\\n466  NaN  NaN  NaN  NaN   NaN        NaN  NaN  NaN  NaN       NaN   NaN\\n467  NaN  NaN  NaN  NaN   NaN        NaN  NaN  NaN  NaN       NaN   NaN\\n468  NaN  NaN  NaN  NaN   NaN        NaN  NaN  NaN  NaN       NaN   NaN\\n469  NaN  NaN  NaN  NaN   NaN        NaN  NaN  NaN  NaN       NaN   NaN\\n470  NaN  NaN  NaN  NaN   NaN        NaN  NaN  NaN  NaN       NaN   NaN\\n471  NaN  NaN  NaN  NaN   NaN        NaN  NaN  NaN  NaN       NaN   NaN\\n472  NaN  NaN  NaN  NaN   NaN        NaN  NaN  NaN  NaN       NaN   NaN\\n473  NaN  NaN  NaN  NaN   NaN        NaN  NaN  NaN  NaN       NaN   NaN\\n474  NaN  NaN  NaN  NaN   NaN        NaN  NaN  NaN  NaN       NaN   NaN\\n475  NaN  NaN  NaN  NaN   NaN        NaN  NaN  NaN  NaN       NaN   NaN\\n476  NaN  NaN  NaN  NaN   NaN        NaN  NaN  NaN  NaN       NaN   NaN\\n477  NaN  NaN  NaN  NaN   NaN        NaN  NaN  NaN  NaN       NaN   NaN\\n478  NaN  NaN  NaN  NaN   NaN        NaN  NaN  NaN  NaN       NaN   NaN\\n479  NaN  NaN  NaN  NaN   NaN        NaN  NaN  NaN  NaN       NaN   NaN\\n480  NaN  NaN  NaN  NaN   NaN        NaN  NaN  NaN  NaN       NaN   NaN\\n481  NaN  NaN  NaN  NaN   NaN        NaN  NaN  NaN  NaN       NaN   NaN\\n482  NaN  NaN  NaN  NaN   NaN        NaN  NaN  NaN  NaN       NaN   NaN\\n483  NaN  NaN  NaN  NaN   NaN        NaN  NaN  NaN  NaN       NaN   NaN\\n484  NaN  NaN  NaN  NaN   NaN        NaN  NaN  NaN  NaN       NaN   NaN\\n485  NaN  NaN  NaN  NaN   NaN        NaN  NaN  NaN  NaN       NaN   NaN\\n486  NaN  NaN  NaN  NaN   NaN        NaN  NaN  NaN  NaN       NaN   NaN\\n487  NaN  NaN  NaN  NaN   NaN        NaN  NaN  NaN  NaN       NaN   NaN\\n488  NaN  NaN  NaN  NaN   NaN        NaN  NaN  NaN  NaN       NaN   NaN\\n489  NaN  NaN  NaN  NaN   NaN        NaN  NaN  NaN  NaN       NaN   NaN\\n490  NaN  NaN  NaN  NaN   NaN        NaN  NaN  NaN  NaN       NaN   NaN\\n491  NaN  NaN  NaN  NaN   NaN        NaN  NaN  NaN  NaN       NaN   NaN\\n492  NaN  NaN  NaN  NaN   NaN        NaN  NaN  NaN  NaN       NaN   NaN\\n493  NaN  NaN  NaN  NaN   NaN        NaN  NaN  NaN  NaN       NaN   NaN\\n494  NaN  NaN  NaN  NaN   NaN        NaN  NaN  NaN  NaN       NaN   NaN\\n495  NaN  NaN  NaN  NaN   NaN        NaN  NaN  NaN  NaN       NaN   NaN\\n496  NaN  NaN  NaN  NaN   NaN        NaN  NaN  NaN  NaN       NaN   NaN\\n497  NaN  NaN  NaN  NaN   NaN        NaN  NaN  NaN  NaN       NaN   NaN\\n498  NaN  NaN  NaN  NaN   NaN        NaN  NaN  NaN  NaN       NaN   NaN\\n499  NaN  NaN  NaN  NaN   NaN        NaN  NaN  NaN  NaN       NaN   NaN'"
      ]
     },
     "execution_count": 3,
     "metadata": {},
     "output_type": "execute_result"
    }
   ],
   "source": [
    "date_sorter().to_string()"
   ]
  },
  {
   "cell_type": "code",
   "execution_count": null,
   "metadata": {
    "deletable": false,
    "editable": false,
    "nbgrader": {
     "cell_type": "code",
     "checksum": "c0843c1f0ad2aaa45fa9ac4012f1aa43",
     "grade": true,
     "grade_id": "cell-373f878879c00996",
     "locked": true,
     "points": 4,
     "schema_version": 3,
     "solution": false,
     "task": false
    }
   },
   "outputs": [],
   "source": []
  },
  {
   "cell_type": "code",
   "execution_count": null,
   "metadata": {
    "deletable": false,
    "editable": false,
    "nbgrader": {
     "cell_type": "code",
     "checksum": "0e2f5bb6bab79c07a81ec366c46c4d49",
     "grade": true,
     "grade_id": "cell-0ebae76e6cd794be",
     "locked": true,
     "points": 1,
     "schema_version": 3,
     "solution": false,
     "task": false
    }
   },
   "outputs": [],
   "source": []
  }
 ],
 "metadata": {
  "coursera": {
   "course_slug": "python-text-mining",
   "graded_item_id": "LvcWI",
   "launcher_item_id": "krne9",
   "part_id": "Mkp1I"
  },
  "kernelspec": {
   "display_name": "Python 3 (ipykernel)",
   "language": "python",
   "name": "python3"
  },
  "language_info": {
   "codemirror_mode": {
    "name": "ipython",
    "version": 3
   },
   "file_extension": ".py",
   "mimetype": "text/x-python",
   "name": "python",
   "nbconvert_exporter": "python",
   "pygments_lexer": "ipython3",
   "version": "3.9.13"
  },
  "vscode": {
   "interpreter": {
    "hash": "aee8b7b246df8f9039afb4144a1f6fd8d2ca17a180786b69acc140d282b71a49"
   }
  }
 },
 "nbformat": 4,
 "nbformat_minor": 4
}
