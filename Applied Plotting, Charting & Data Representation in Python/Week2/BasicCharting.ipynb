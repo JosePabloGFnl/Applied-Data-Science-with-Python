{
 "cells": [
  {
   "cell_type": "code",
   "execution_count": 1,
   "metadata": {},
   "outputs": [],
   "source": [
    "#Matplotlib Architecture"
   ]
  },
  {
   "cell_type": "code",
   "execution_count": 2,
   "metadata": {},
   "outputs": [],
   "source": [
    "%matplotlib notebook"
   ]
  },
  {
   "cell_type": "code",
   "execution_count": 3,
   "metadata": {},
   "outputs": [
    {
     "data": {
      "text/plain": [
       "'nbAgg'"
      ]
     },
     "execution_count": 3,
     "metadata": {},
     "output_type": "execute_result"
    }
   ],
   "source": [
    "import matplotlib as mpl\n",
    "mpl.get_backend()"
   ]
  },
  {
   "cell_type": "code",
   "execution_count": 4,
   "metadata": {},
   "outputs": [],
   "source": [
    "#get and set are used often un mpl variables"
   ]
  },
  {
   "cell_type": "code",
   "execution_count": 5,
   "metadata": {},
   "outputs": [],
   "source": [
    "#the artist layer is where most time is spent, an abstraction around drawing layout perimeters\n",
    "#it contains containers such as figure, subplot and axes\n",
    "#it also contains primitives, such as Line2D and Rectangle, and collections such as PathCollection\n",
    "\n",
    "#the root of visuals is a set of containers with a figure object with one or more subplots each with a series of one or more axis\n",
    "#the axis is the most common one with which we will interact with, changing the range of a given access or plotting range to it\n",
    "\n",
    "#an axis is made of two axes objects (x and y)\n",
    "#the aritst layer also contains primitives and collections\n",
    "#a patch is an object with a color object and an edge object\n"
   ]
  },
  {
   "cell_type": "code",
   "execution_count": 6,
   "metadata": {},
   "outputs": [],
   "source": [
    "#the scripting layer is particular for data scientists, it helps out to simplify and speed up the interaction with\n",
    "#the environment in order to build plots quickly\n",
    "#the magic behind this layer must be understood, in this course it's called pyplot"
   ]
  },
  {
   "cell_type": "code",
   "execution_count": null,
   "metadata": {},
   "outputs": [],
   "source": [
    "#Matplotlib's pyplot is an example of a procedural method for building visualizations while SVG, \n",
    "#HTML are declarative methods of creating visualizations."
   ]
  }
 ],
 "metadata": {
  "kernelspec": {
   "display_name": "Python 3",
   "language": "python",
   "name": "python3"
  },
  "language_info": {
   "codemirror_mode": {
    "name": "ipython",
    "version": 3
   },
   "file_extension": ".py",
   "mimetype": "text/x-python",
   "name": "python",
   "nbconvert_exporter": "python",
   "pygments_lexer": "ipython3",
   "version": "3.7.3"
  }
 },
 "nbformat": 4,
 "nbformat_minor": 2
}
